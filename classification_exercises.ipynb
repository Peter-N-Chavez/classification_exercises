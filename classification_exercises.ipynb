{
 "cells": [
  {
   "cell_type": "code",
   "execution_count": 5,
   "metadata": {},
   "outputs": [],
   "source": [
    "import numpy as np\n",
    "import scipy.stats as stats\n",
    "import pandas as pd\n",
    "import matplotlib.pyplot as plt\n",
    "import matplotlib.image as mpimg\n",
    "import seaborn as sns\n",
    "from pydataset import data\n",
    "from sklearn.model_selection import train_test_split\n",
    "from sklearn.impute import SimpleImputer\n",
    "from acquire import *\n",
    "from prepare import *\n",
    "from explore import *"
   ]
  },
  {
   "cell_type": "code",
   "execution_count": 2,
   "metadata": {},
   "outputs": [
    {
     "name": "stdout",
     "output_type": "stream",
     "text": [
      "   Sepal.Length  Sepal.Width  Petal.Length  Petal.Width Species\n",
      "1           5.1          3.5           1.4          0.2  setosa\n",
      "2           4.9          3.0           1.4          0.2  setosa\n",
      "3           4.7          3.2           1.3          0.2  setosa \n",
      "\n",
      "Shape of the dataframe is (150, 5) .\n",
      "\n",
      "<class 'pandas.core.frame.DataFrame'>\n",
      "Int64Index: 150 entries, 1 to 150\n",
      "Data columns (total 5 columns):\n",
      " #   Column        Non-Null Count  Dtype  \n",
      "---  ------        --------------  -----  \n",
      " 0   Sepal.Length  150 non-null    float64\n",
      " 1   Sepal.Width   150 non-null    float64\n",
      " 2   Petal.Length  150 non-null    float64\n",
      " 3   Petal.Width   150 non-null    float64\n",
      " 4   Species       150 non-null    object \n",
      "dtypes: float64(4), object(1)\n",
      "memory usage: 7.0+ KB\n",
      "None \n",
      "\n",
      "       Sepal.Length  Sepal.Width  Petal.Length  Petal.Width\n",
      "count    150.000000   150.000000    150.000000   150.000000\n",
      "mean       5.843333     3.057333      3.758000     1.199333\n",
      "std        0.828066     0.435866      1.765298     0.762238\n",
      "min        4.300000     2.000000      1.000000     0.100000\n",
      "25%        5.100000     2.800000      1.600000     0.300000\n",
      "50%        5.800000     3.000000      4.350000     1.300000\n",
      "75%        6.400000     3.300000      5.100000     1.800000\n",
      "max        7.900000     4.400000      6.900000     2.500000\n"
     ]
    }
   ],
   "source": [
    "# Create a pandas dataframe, df_iris, from this data.\n",
    "\n",
    "df = data(\"iris\")\n",
    "\n",
    "#     print the first 3 rows\n",
    "\n",
    "print(df.head(3), \"\\n\")\n",
    "\n",
    "#     print the number of rows and columns (shape)\n",
    "\n",
    "print(\"Shape of the dataframe is\", df.shape, \".\\n\")\n",
    "\n",
    "#     print the column names\n",
    "#     print the data type of each column\n",
    "\n",
    "print(df.info(), \"\\n\")\n",
    "\n",
    "#     print the summary statistics for each of the numeric variables\n",
    "\n",
    "print(df.describe())"
   ]
  },
  {
   "cell_type": "code",
   "execution_count": 3,
   "metadata": {},
   "outputs": [
    {
     "name": "stdout",
     "output_type": "stream",
     "text": [
      "   PassengerId  Survived  Pclass  \\\n",
      "0            1         0       3   \n",
      "1            2         1       1   \n",
      "2            3         1       3   \n",
      "\n",
      "                                                  Name     Sex   Age  SibSp  \\\n",
      "0                              Braund, Mr. Owen Harris    male  22.0      1   \n",
      "1  Cumings, Mrs. John Bradley (Florence Briggs Thayer)  female  38.0      1   \n",
      "2                               Heikkinen, Miss. Laina  female  26.0      0   \n",
      "\n",
      "   Parch            Ticket     Fare Cabin Embarked  \n",
      "0      0         A/5 21171   7.2500   NaN        S  \n",
      "1      0          PC 17599  71.2833   C85        C  \n",
      "2      0  STON/O2. 3101282   7.9250   NaN        S   \n",
      "\n",
      "(891, 12) \n",
      "\n",
      "<class 'pandas.core.frame.DataFrame'>\n",
      "RangeIndex: 891 entries, 0 to 890\n",
      "Data columns (total 12 columns):\n",
      " #   Column       Non-Null Count  Dtype  \n",
      "---  ------       --------------  -----  \n",
      " 0   PassengerId  891 non-null    int64  \n",
      " 1   Survived     891 non-null    int64  \n",
      " 2   Pclass       891 non-null    int64  \n",
      " 3   Name         891 non-null    object \n",
      " 4   Sex          891 non-null    object \n",
      " 5   Age          714 non-null    float64\n",
      " 6   SibSp        891 non-null    int64  \n",
      " 7   Parch        891 non-null    int64  \n",
      " 8   Ticket       891 non-null    object \n",
      " 9   Fare         891 non-null    float64\n",
      " 10  Cabin        204 non-null    object \n",
      " 11  Embarked     889 non-null    object \n",
      "dtypes: float64(2), int64(5), object(5)\n",
      "memory usage: 83.7+ KB\n",
      "None \n",
      "\n",
      "       PassengerId    Survived      Pclass         Age       SibSp  \\\n",
      "count   891.000000  891.000000  891.000000  714.000000  891.000000   \n",
      "mean    446.000000    0.383838    2.308642   29.699118    0.523008   \n",
      "std     257.353842    0.486592    0.836071   14.526497    1.102743   \n",
      "min       1.000000    0.000000    1.000000    0.420000    0.000000   \n",
      "25%     223.500000    0.000000    2.000000   20.125000    0.000000   \n",
      "50%     446.000000    0.000000    3.000000   28.000000    0.000000   \n",
      "75%     668.500000    1.000000    3.000000   38.000000    1.000000   \n",
      "max     891.000000    1.000000    3.000000   80.000000    8.000000   \n",
      "\n",
      "            Parch        Fare  \n",
      "count  891.000000  891.000000  \n",
      "mean     0.381594   32.204208  \n",
      "std      0.806057   49.693429  \n",
      "min      0.000000    0.000000  \n",
      "25%      0.000000    7.910400  \n",
      "50%      0.000000   14.454200  \n",
      "75%      0.000000   31.000000  \n",
      "max      6.000000  512.329200   \n",
      "\n",
      "PassengerId  Survived  Pclass  Name                                                  Sex     Age   SibSp  Parch  Ticket    Fare      Cabin  Embarked\n",
      "2            1         1       Cumings, Mrs. John Bradley (Florence Briggs Thayer)   female  38.0  1      0      PC 17599  71.2833   C85    C           1\n",
      "572          1         1       Appleton, Mrs. Edward Dale (Charlotte Lamson)         female  53.0  2      0      11769     51.4792   C101   S           1\n",
      "578          1         1       Silvey, Mrs. William Baird (Alice Munger)             female  39.0  1      0      13507     55.9000   E44    S           1\n",
      "582          1         1       Thayer, Mrs. John Borland (Marian Longstreth Morris)  female  39.0  1      1      17421     110.8833  C68    C           1\n",
      "584          0         1       Ross, Mr. John Hugo                                   male    36.0  0      0      13049     40.1250   A10    C           1\n",
      "                                                                                                                                                       ..\n",
      "328          1         2       Ball, Mrs. (Ada E Hall)                               female  36.0  0      0      28551     13.0000   D      S           1\n",
      "330          1         1       Hippach, Miss. Jean Gertrude                          female  16.0  0      1      111361    57.9792   B18    C           1\n",
      "332          0         1       Partner, Mr. Austen                                   male    45.5  0      0      113043    28.5000   C124   S           1\n",
      "333          0         1       Graham, Mr. George Edward                             male    38.0  0      1      PC 17582  153.4625  C91    S           1\n",
      "890          1         1       Behr, Mr. Karl Howell                                 male    26.0  0      0      111369    30.0000   C148   C           1\n",
      "Length: 183, dtype: int64\n"
     ]
    }
   ],
   "source": [
    " # Read the data from the provided google sheet into a dataframe, df_google.\n",
    "\n",
    "csv_file1 = \"train.csv\"\n",
    "df_google = pd.read_csv(csv_file1)\n",
    "\n",
    "    # print the first 3 rows\n",
    "\n",
    "print(df_google.head(3), \"\\n\")\n",
    "\n",
    "    # print the number of rows and columns\n",
    "\n",
    "print(df_google.shape, \"\\n\")\n",
    "\n",
    "    # print the column names\n",
    "    # print the data type of each column\n",
    "\n",
    "print(df_google.info(), \"\\n\")\n",
    "\n",
    "    # print the summary statistics for each of the numeric variables\n",
    "\n",
    "print(df_google.describe(), \"\\n\")\n",
    "\n",
    "    # print the unique values for each of your categorical variables\n",
    "\n",
    "print(df_google.value_counts())"
   ]
  },
  {
   "cell_type": "code",
   "execution_count": 4,
   "metadata": {},
   "outputs": [
    {
     "name": "stdout",
     "output_type": "stream",
     "text": [
      "(891, 12) \n",
      "\n",
      "['PassengerId', 'Survived', 'Pclass', 'Name', 'Sex'] \n",
      "\n",
      "['Name', 'Sex', 'Ticket', 'Cabin', 'Embarked'] \n",
      "\n",
      "PassengerId    890.0000\n",
      "Survived         1.0000\n",
      "Pclass           2.0000\n",
      "Age             79.5800\n",
      "SibSp            8.0000\n",
      "Parch            6.0000\n",
      "Fare           512.3292\n",
      "dtype: float64\n"
     ]
    }
   ],
   "source": [
    "# Download the previous exercise's file into an excel (File → Download → \n",
    "# Microsoft Excel). Read the downloaded file into a dataframe named df_excel.\n",
    "\n",
    "xl_file1 = \"train.xlsx\"\n",
    "df_excel = pd.read_excel(xl_file1)\n",
    "\n",
    "    # assign the first 100 rows to a new dataframe, df_excel_sample\n",
    "\n",
    "df_excel_sample = df_excel[:101]\n",
    "\n",
    "    # print the number of rows of your original dataframe\n",
    "\n",
    "print(df_excel.shape, \"\\n\")\n",
    "\n",
    "    # print the first 5 column names\n",
    "\n",
    "print(df_excel.columns[:5].to_list(), \"\\n\")\n",
    "\n",
    "    # print the column names that have a data type of object\n",
    "\n",
    "print(df_excel.select_dtypes(include = [\"object\"]).columns.to_list(), \"\\n\")\n",
    "\n",
    "    # compute the range for each of the numeric variables.\n",
    "\n",
    "print((df_excel.select_dtypes(include = [\"float\"]).max()) - (df_excel.select_dtypes(include = [\"float\"]).min()) )\n"
   ]
  },
  {
   "cell_type": "code",
   "execution_count": 5,
   "metadata": {},
   "outputs": [
    {
     "data": {
      "text/html": [
       "<div>\n",
       "<style scoped>\n",
       "    .dataframe tbody tr th:only-of-type {\n",
       "        vertical-align: middle;\n",
       "    }\n",
       "\n",
       "    .dataframe tbody tr th {\n",
       "        vertical-align: top;\n",
       "    }\n",
       "\n",
       "    .dataframe thead th {\n",
       "        text-align: right;\n",
       "    }\n",
       "</style>\n",
       "<table border=\"1\" class=\"dataframe\">\n",
       "  <thead>\n",
       "    <tr style=\"text-align: right;\">\n",
       "      <th></th>\n",
       "      <th>Unnamed: 0</th>\n",
       "      <th>species_id</th>\n",
       "      <th>species_name</th>\n",
       "      <th>measurement_id</th>\n",
       "      <th>sepal_length</th>\n",
       "      <th>sepal_width</th>\n",
       "      <th>petal_length</th>\n",
       "      <th>petal_width</th>\n",
       "    </tr>\n",
       "  </thead>\n",
       "  <tbody>\n",
       "    <tr>\n",
       "      <th>0</th>\n",
       "      <td>0</td>\n",
       "      <td>1</td>\n",
       "      <td>setosa</td>\n",
       "      <td>1</td>\n",
       "      <td>5.1</td>\n",
       "      <td>3.5</td>\n",
       "      <td>1.4</td>\n",
       "      <td>0.2</td>\n",
       "    </tr>\n",
       "    <tr>\n",
       "      <th>1</th>\n",
       "      <td>1</td>\n",
       "      <td>1</td>\n",
       "      <td>setosa</td>\n",
       "      <td>2</td>\n",
       "      <td>4.9</td>\n",
       "      <td>3.0</td>\n",
       "      <td>1.4</td>\n",
       "      <td>0.2</td>\n",
       "    </tr>\n",
       "    <tr>\n",
       "      <th>2</th>\n",
       "      <td>2</td>\n",
       "      <td>1</td>\n",
       "      <td>setosa</td>\n",
       "      <td>3</td>\n",
       "      <td>4.7</td>\n",
       "      <td>3.2</td>\n",
       "      <td>1.3</td>\n",
       "      <td>0.2</td>\n",
       "    </tr>\n",
       "    <tr>\n",
       "      <th>3</th>\n",
       "      <td>3</td>\n",
       "      <td>1</td>\n",
       "      <td>setosa</td>\n",
       "      <td>4</td>\n",
       "      <td>4.6</td>\n",
       "      <td>3.1</td>\n",
       "      <td>1.5</td>\n",
       "      <td>0.2</td>\n",
       "    </tr>\n",
       "    <tr>\n",
       "      <th>4</th>\n",
       "      <td>4</td>\n",
       "      <td>1</td>\n",
       "      <td>setosa</td>\n",
       "      <td>5</td>\n",
       "      <td>5.0</td>\n",
       "      <td>3.6</td>\n",
       "      <td>1.4</td>\n",
       "      <td>0.2</td>\n",
       "    </tr>\n",
       "  </tbody>\n",
       "</table>\n",
       "</div>"
      ],
      "text/plain": [
       "   Unnamed: 0  species_id species_name  measurement_id  sepal_length  \\\n",
       "0           0           1       setosa               1           5.1   \n",
       "1           1           1       setosa               2           4.9   \n",
       "2           2           1       setosa               3           4.7   \n",
       "3           3           1       setosa               4           4.6   \n",
       "4           4           1       setosa               5           5.0   \n",
       "\n",
       "   sepal_width  petal_length  petal_width  \n",
       "0          3.5           1.4          0.2  \n",
       "1          3.0           1.4          0.2  \n",
       "2          3.2           1.3          0.2  \n",
       "3          3.1           1.5          0.2  \n",
       "4          3.6           1.4          0.2  "
      ]
     },
     "execution_count": 5,
     "metadata": {},
     "output_type": "execute_result"
    }
   ],
   "source": [
    "df = get_iris_data()\n",
    "# df = df.drop(columns=[\"species_id\", \"measurement_id\"])\n",
    "# df = df.rename(columns={\"species_name\": \"species\"})\n",
    "# dummy_df = pd.get_dummies(df[[\"species\"]], drop_first=True)\n",
    "# df = pd.concat([df, dummy_df], axis=1)\n",
    "\n",
    "prep_iris(df)\n",
    "\n",
    "df.head()"
   ]
  },
  {
   "cell_type": "code",
   "execution_count": 6,
   "metadata": {},
   "outputs": [
    {
     "data": {
      "text/html": [
       "<div>\n",
       "<style scoped>\n",
       "    .dataframe tbody tr th:only-of-type {\n",
       "        vertical-align: middle;\n",
       "    }\n",
       "\n",
       "    .dataframe tbody tr th {\n",
       "        vertical-align: top;\n",
       "    }\n",
       "\n",
       "    .dataframe thead th {\n",
       "        text-align: right;\n",
       "    }\n",
       "</style>\n",
       "<table border=\"1\" class=\"dataframe\">\n",
       "  <thead>\n",
       "    <tr style=\"text-align: right;\">\n",
       "      <th></th>\n",
       "      <th>payment_type_id</th>\n",
       "      <th>internet_service_type_id</th>\n",
       "      <th>contract_type_id</th>\n",
       "      <th>customer_id</th>\n",
       "      <th>gender</th>\n",
       "      <th>senior_citizen</th>\n",
       "      <th>partner</th>\n",
       "      <th>dependents</th>\n",
       "      <th>tenure</th>\n",
       "      <th>phone_service</th>\n",
       "      <th>...</th>\n",
       "      <th>tech_support</th>\n",
       "      <th>streaming_tv</th>\n",
       "      <th>streaming_movies</th>\n",
       "      <th>paperless_billing</th>\n",
       "      <th>monthly_charges</th>\n",
       "      <th>total_charges</th>\n",
       "      <th>churn</th>\n",
       "      <th>contract_type</th>\n",
       "      <th>internet_service_type</th>\n",
       "      <th>payment_type</th>\n",
       "    </tr>\n",
       "  </thead>\n",
       "  <tbody>\n",
       "    <tr>\n",
       "      <th>0</th>\n",
       "      <td>2</td>\n",
       "      <td>1</td>\n",
       "      <td>2</td>\n",
       "      <td>0002-ORFBO</td>\n",
       "      <td>Female</td>\n",
       "      <td>0</td>\n",
       "      <td>Yes</td>\n",
       "      <td>Yes</td>\n",
       "      <td>9</td>\n",
       "      <td>Yes</td>\n",
       "      <td>...</td>\n",
       "      <td>Yes</td>\n",
       "      <td>Yes</td>\n",
       "      <td>No</td>\n",
       "      <td>Yes</td>\n",
       "      <td>65.6</td>\n",
       "      <td>593.3</td>\n",
       "      <td>No</td>\n",
       "      <td>One year</td>\n",
       "      <td>DSL</td>\n",
       "      <td>Mailed check</td>\n",
       "    </tr>\n",
       "    <tr>\n",
       "      <th>1</th>\n",
       "      <td>2</td>\n",
       "      <td>1</td>\n",
       "      <td>1</td>\n",
       "      <td>0003-MKNFE</td>\n",
       "      <td>Male</td>\n",
       "      <td>0</td>\n",
       "      <td>No</td>\n",
       "      <td>No</td>\n",
       "      <td>9</td>\n",
       "      <td>Yes</td>\n",
       "      <td>...</td>\n",
       "      <td>No</td>\n",
       "      <td>No</td>\n",
       "      <td>Yes</td>\n",
       "      <td>No</td>\n",
       "      <td>59.9</td>\n",
       "      <td>542.4</td>\n",
       "      <td>No</td>\n",
       "      <td>Month-to-month</td>\n",
       "      <td>DSL</td>\n",
       "      <td>Mailed check</td>\n",
       "    </tr>\n",
       "    <tr>\n",
       "      <th>2</th>\n",
       "      <td>1</td>\n",
       "      <td>2</td>\n",
       "      <td>1</td>\n",
       "      <td>0004-TLHLJ</td>\n",
       "      <td>Male</td>\n",
       "      <td>0</td>\n",
       "      <td>No</td>\n",
       "      <td>No</td>\n",
       "      <td>4</td>\n",
       "      <td>Yes</td>\n",
       "      <td>...</td>\n",
       "      <td>No</td>\n",
       "      <td>No</td>\n",
       "      <td>No</td>\n",
       "      <td>Yes</td>\n",
       "      <td>73.9</td>\n",
       "      <td>280.85</td>\n",
       "      <td>Yes</td>\n",
       "      <td>Month-to-month</td>\n",
       "      <td>Fiber optic</td>\n",
       "      <td>Electronic check</td>\n",
       "    </tr>\n",
       "    <tr>\n",
       "      <th>3</th>\n",
       "      <td>1</td>\n",
       "      <td>2</td>\n",
       "      <td>1</td>\n",
       "      <td>0011-IGKFF</td>\n",
       "      <td>Male</td>\n",
       "      <td>1</td>\n",
       "      <td>Yes</td>\n",
       "      <td>No</td>\n",
       "      <td>13</td>\n",
       "      <td>Yes</td>\n",
       "      <td>...</td>\n",
       "      <td>No</td>\n",
       "      <td>Yes</td>\n",
       "      <td>Yes</td>\n",
       "      <td>Yes</td>\n",
       "      <td>98.0</td>\n",
       "      <td>1237.85</td>\n",
       "      <td>Yes</td>\n",
       "      <td>Month-to-month</td>\n",
       "      <td>Fiber optic</td>\n",
       "      <td>Electronic check</td>\n",
       "    </tr>\n",
       "    <tr>\n",
       "      <th>4</th>\n",
       "      <td>2</td>\n",
       "      <td>2</td>\n",
       "      <td>1</td>\n",
       "      <td>0013-EXCHZ</td>\n",
       "      <td>Female</td>\n",
       "      <td>1</td>\n",
       "      <td>Yes</td>\n",
       "      <td>No</td>\n",
       "      <td>3</td>\n",
       "      <td>Yes</td>\n",
       "      <td>...</td>\n",
       "      <td>Yes</td>\n",
       "      <td>Yes</td>\n",
       "      <td>No</td>\n",
       "      <td>Yes</td>\n",
       "      <td>83.9</td>\n",
       "      <td>267.4</td>\n",
       "      <td>Yes</td>\n",
       "      <td>Month-to-month</td>\n",
       "      <td>Fiber optic</td>\n",
       "      <td>Mailed check</td>\n",
       "    </tr>\n",
       "  </tbody>\n",
       "</table>\n",
       "<p>5 rows × 24 columns</p>\n",
       "</div>"
      ],
      "text/plain": [
       "   payment_type_id  internet_service_type_id  contract_type_id customer_id  \\\n",
       "0                2                         1                 2  0002-ORFBO   \n",
       "1                2                         1                 1  0003-MKNFE   \n",
       "2                1                         2                 1  0004-TLHLJ   \n",
       "3                1                         2                 1  0011-IGKFF   \n",
       "4                2                         2                 1  0013-EXCHZ   \n",
       "\n",
       "   gender  senior_citizen partner dependents  tenure phone_service  ...  \\\n",
       "0  Female               0     Yes        Yes       9           Yes  ...   \n",
       "1    Male               0      No         No       9           Yes  ...   \n",
       "2    Male               0      No         No       4           Yes  ...   \n",
       "3    Male               1     Yes         No      13           Yes  ...   \n",
       "4  Female               1     Yes         No       3           Yes  ...   \n",
       "\n",
       "  tech_support streaming_tv streaming_movies paperless_billing  \\\n",
       "0          Yes          Yes               No               Yes   \n",
       "1           No           No              Yes                No   \n",
       "2           No           No               No               Yes   \n",
       "3           No          Yes              Yes               Yes   \n",
       "4          Yes          Yes               No               Yes   \n",
       "\n",
       "  monthly_charges total_charges churn   contract_type  internet_service_type  \\\n",
       "0            65.6         593.3    No        One year                    DSL   \n",
       "1            59.9         542.4    No  Month-to-month                    DSL   \n",
       "2            73.9        280.85   Yes  Month-to-month            Fiber optic   \n",
       "3            98.0       1237.85   Yes  Month-to-month            Fiber optic   \n",
       "4            83.9         267.4   Yes  Month-to-month            Fiber optic   \n",
       "\n",
       "       payment_type  \n",
       "0      Mailed check  \n",
       "1      Mailed check  \n",
       "2  Electronic check  \n",
       "3  Electronic check  \n",
       "4      Mailed check  \n",
       "\n",
       "[5 rows x 24 columns]"
      ]
     },
     "execution_count": 6,
     "metadata": {},
     "output_type": "execute_result"
    }
   ],
   "source": [
    "df = get_telco_data()\n",
    "# df = df.drop(columns = [\"contract_type\", \"payment_type\",\n",
    "#                        \"internet_service_type\"])\n",
    "# dummy_df = pd.get_dummies(df[[\"gender\"]], drop_first=True)\n",
    "# df = pd.concat([df, dummy_df], axis=1)\n",
    "\n",
    "prep_telco(df)\n",
    "\n",
    "df.head()"
   ]
  },
  {
   "cell_type": "code",
   "execution_count": 7,
   "metadata": {},
   "outputs": [
    {
     "data": {
      "text/html": [
       "<div>\n",
       "<style scoped>\n",
       "    .dataframe tbody tr th:only-of-type {\n",
       "        vertical-align: middle;\n",
       "    }\n",
       "\n",
       "    .dataframe tbody tr th {\n",
       "        vertical-align: top;\n",
       "    }\n",
       "\n",
       "    .dataframe thead th {\n",
       "        text-align: right;\n",
       "    }\n",
       "</style>\n",
       "<table border=\"1\" class=\"dataframe\">\n",
       "  <thead>\n",
       "    <tr style=\"text-align: right;\">\n",
       "      <th></th>\n",
       "      <th>Unnamed: 0</th>\n",
       "      <th>passenger_id</th>\n",
       "      <th>survived</th>\n",
       "      <th>pclass</th>\n",
       "      <th>sex</th>\n",
       "      <th>age</th>\n",
       "      <th>sibsp</th>\n",
       "      <th>parch</th>\n",
       "      <th>fare</th>\n",
       "      <th>embarked</th>\n",
       "      <th>class</th>\n",
       "      <th>deck</th>\n",
       "      <th>embark_town</th>\n",
       "      <th>alone</th>\n",
       "    </tr>\n",
       "  </thead>\n",
       "  <tbody>\n",
       "    <tr>\n",
       "      <th>0</th>\n",
       "      <td>0</td>\n",
       "      <td>0</td>\n",
       "      <td>0</td>\n",
       "      <td>3</td>\n",
       "      <td>male</td>\n",
       "      <td>22.0</td>\n",
       "      <td>1</td>\n",
       "      <td>0</td>\n",
       "      <td>7.2500</td>\n",
       "      <td>S</td>\n",
       "      <td>Third</td>\n",
       "      <td>NaN</td>\n",
       "      <td>Southampton</td>\n",
       "      <td>0</td>\n",
       "    </tr>\n",
       "    <tr>\n",
       "      <th>1</th>\n",
       "      <td>1</td>\n",
       "      <td>1</td>\n",
       "      <td>1</td>\n",
       "      <td>1</td>\n",
       "      <td>female</td>\n",
       "      <td>38.0</td>\n",
       "      <td>1</td>\n",
       "      <td>0</td>\n",
       "      <td>71.2833</td>\n",
       "      <td>C</td>\n",
       "      <td>First</td>\n",
       "      <td>C</td>\n",
       "      <td>Cherbourg</td>\n",
       "      <td>0</td>\n",
       "    </tr>\n",
       "    <tr>\n",
       "      <th>2</th>\n",
       "      <td>2</td>\n",
       "      <td>2</td>\n",
       "      <td>1</td>\n",
       "      <td>3</td>\n",
       "      <td>female</td>\n",
       "      <td>26.0</td>\n",
       "      <td>0</td>\n",
       "      <td>0</td>\n",
       "      <td>7.9250</td>\n",
       "      <td>S</td>\n",
       "      <td>Third</td>\n",
       "      <td>NaN</td>\n",
       "      <td>Southampton</td>\n",
       "      <td>1</td>\n",
       "    </tr>\n",
       "    <tr>\n",
       "      <th>3</th>\n",
       "      <td>3</td>\n",
       "      <td>3</td>\n",
       "      <td>1</td>\n",
       "      <td>1</td>\n",
       "      <td>female</td>\n",
       "      <td>35.0</td>\n",
       "      <td>1</td>\n",
       "      <td>0</td>\n",
       "      <td>53.1000</td>\n",
       "      <td>S</td>\n",
       "      <td>First</td>\n",
       "      <td>C</td>\n",
       "      <td>Southampton</td>\n",
       "      <td>0</td>\n",
       "    </tr>\n",
       "    <tr>\n",
       "      <th>4</th>\n",
       "      <td>4</td>\n",
       "      <td>4</td>\n",
       "      <td>0</td>\n",
       "      <td>3</td>\n",
       "      <td>male</td>\n",
       "      <td>35.0</td>\n",
       "      <td>0</td>\n",
       "      <td>0</td>\n",
       "      <td>8.0500</td>\n",
       "      <td>S</td>\n",
       "      <td>Third</td>\n",
       "      <td>NaN</td>\n",
       "      <td>Southampton</td>\n",
       "      <td>1</td>\n",
       "    </tr>\n",
       "  </tbody>\n",
       "</table>\n",
       "</div>"
      ],
      "text/plain": [
       "   Unnamed: 0  passenger_id  survived  pclass     sex   age  sibsp  parch  \\\n",
       "0           0             0         0       3    male  22.0      1      0   \n",
       "1           1             1         1       1  female  38.0      1      0   \n",
       "2           2             2         1       3  female  26.0      0      0   \n",
       "3           3             3         1       1  female  35.0      1      0   \n",
       "4           4             4         0       3    male  35.0      0      0   \n",
       "\n",
       "      fare embarked  class deck  embark_town  alone  \n",
       "0   7.2500        S  Third  NaN  Southampton      0  \n",
       "1  71.2833        C  First    C    Cherbourg      0  \n",
       "2   7.9250        S  Third  NaN  Southampton      1  \n",
       "3  53.1000        S  First    C  Southampton      0  \n",
       "4   8.0500        S  Third  NaN  Southampton      1  "
      ]
     },
     "execution_count": 7,
     "metadata": {},
     "output_type": "execute_result"
    }
   ],
   "source": [
    "df = get_titanic_data()\n",
    "# titanic = titanic.drop(columns=['embarked','class', 'age','deck'])\n",
    "# dummy_df = pd.get_dummies(data=titanic[['sex','embark_town']], drop_first=True)\n",
    "# titanic = pd.concat([titanic, dummy_df], axis=1)\n",
    "prep_tit(df)\n",
    "\n",
    "df.head()"
   ]
  },
  {
   "cell_type": "code",
   "execution_count": null,
   "metadata": {},
   "outputs": [],
   "source": [
    "df = new_attendance_df()\n",
    "\n",
    "df = df.melt(id_vars = \"Unnamed\", var_name = \"date\", value_name = \"attend\")\n",
    "df.attend = df.attend.map({\"P\":1, \"H\":.5, \"A\":0, \"T\":.9}) #Tardies policy needed MAJOR clarification.\n",
    "df.groupby(\"Unnamed\").mean()\n",
    "\n",
    "df.head(3)"
   ]
  },
  {
   "cell_type": "code",
   "execution_count": null,
   "metadata": {},
   "outputs": [
    {
     "data": {
      "text/html": [
       "<div>\n",
       "<style scoped>\n",
       "    .dataframe tbody tr th:only-of-type {\n",
       "        vertical-align: middle;\n",
       "    }\n",
       "\n",
       "    .dataframe tbody tr th {\n",
       "        vertical-align: top;\n",
       "    }\n",
       "\n",
       "    .dataframe thead tr th {\n",
       "        text-align: left;\n",
       "    }\n",
       "\n",
       "    .dataframe thead tr:last-of-type th {\n",
       "        text-align: right;\n",
       "    }\n",
       "</style>\n",
       "<table border=\"1\" class=\"dataframe\">\n",
       "  <thead>\n",
       "    <tr>\n",
       "      <th></th>\n",
       "      <th colspan=\"3\" halign=\"left\">coffee_amount</th>\n",
       "    </tr>\n",
       "    <tr>\n",
       "      <th>coffee_carafe</th>\n",
       "      <th>x</th>\n",
       "      <th>y</th>\n",
       "      <th>z</th>\n",
       "    </tr>\n",
       "    <tr>\n",
       "      <th>hour</th>\n",
       "      <th></th>\n",
       "      <th></th>\n",
       "      <th></th>\n",
       "    </tr>\n",
       "  </thead>\n",
       "  <tbody>\n",
       "    <tr>\n",
       "      <th>8</th>\n",
       "      <td>0.816164</td>\n",
       "      <td>0.189297</td>\n",
       "      <td>0.999264</td>\n",
       "    </tr>\n",
       "    <tr>\n",
       "      <th>9</th>\n",
       "      <td>0.451018</td>\n",
       "      <td>0.521502</td>\n",
       "      <td>0.915990</td>\n",
       "    </tr>\n",
       "    <tr>\n",
       "      <th>10</th>\n",
       "      <td>0.843279</td>\n",
       "      <td>0.023163</td>\n",
       "      <td>0.144928</td>\n",
       "    </tr>\n",
       "  </tbody>\n",
       "</table>\n",
       "</div>"
      ],
      "text/plain": [
       "              coffee_amount                    \n",
       "coffee_carafe             x         y         z\n",
       "hour                                           \n",
       "8                  0.816164  0.189297  0.999264\n",
       "9                  0.451018  0.521502  0.915990\n",
       "10                 0.843279  0.023163  0.144928"
      ]
     },
     "execution_count": 4,
     "metadata": {},
     "output_type": "execute_result"
    }
   ],
   "source": [
    "df = new_coffee_df()\n",
    "df = df.pivot_table(index = \"hour\", columns = \"coffee_carafe\")\n",
    "\n",
    "df.head(3)"
   ]
  },
  {
   "cell_type": "code",
   "execution_count": null,
   "metadata": {},
   "outputs": [],
   "source": [
    "df = new_cake_df()\n",
    "df = df.melt(id_vars = \"recipe : position\", var_name = \"temp\",\n",
    "             value_name = \"score\")\n",
    "df[[\"recipe\", \"position\"]] = df[\"recipe : position\"].str.split(\":\", expand = True)\n",
    "df = df.drop(columns=\"recipe : position\")\n",
    "df = df.groupby([\"recipe\", \"position\", \"temp\"]).mean()\n",
    "\n",
    "df"
   ]
  },
  {
   "cell_type": "code",
   "execution_count": null,
   "metadata": {},
   "outputs": [
    {
     "data": {
      "text/html": [
       "<div>\n",
       "<style scoped>\n",
       "    .dataframe tbody tr th:only-of-type {\n",
       "        vertical-align: middle;\n",
       "    }\n",
       "\n",
       "    .dataframe tbody tr th {\n",
       "        vertical-align: top;\n",
       "    }\n",
       "\n",
       "    .dataframe thead th {\n",
       "        text-align: right;\n",
       "    }\n",
       "</style>\n",
       "<table border=\"1\" class=\"dataframe\">\n",
       "  <thead>\n",
       "    <tr style=\"text-align: right;\">\n",
       "      <th></th>\n",
       "      <th>count</th>\n",
       "      <th>mean</th>\n",
       "      <th>std</th>\n",
       "      <th>min</th>\n",
       "      <th>25%</th>\n",
       "      <th>50%</th>\n",
       "      <th>75%</th>\n",
       "      <th>max</th>\n",
       "    </tr>\n",
       "  </thead>\n",
       "  <tbody>\n",
       "    <tr>\n",
       "      <th>sepal_length</th>\n",
       "      <td>90.0</td>\n",
       "      <td>5.784444</td>\n",
       "      <td>0.833688</td>\n",
       "      <td>4.3</td>\n",
       "      <td>5.000</td>\n",
       "      <td>5.8</td>\n",
       "      <td>6.4</td>\n",
       "      <td>7.7</td>\n",
       "    </tr>\n",
       "    <tr>\n",
       "      <th>sepal_width</th>\n",
       "      <td>90.0</td>\n",
       "      <td>3.014444</td>\n",
       "      <td>0.384404</td>\n",
       "      <td>2.0</td>\n",
       "      <td>2.800</td>\n",
       "      <td>3.0</td>\n",
       "      <td>3.2</td>\n",
       "      <td>4.2</td>\n",
       "    </tr>\n",
       "    <tr>\n",
       "      <th>petal_length</th>\n",
       "      <td>90.0</td>\n",
       "      <td>3.714444</td>\n",
       "      <td>1.735069</td>\n",
       "      <td>1.0</td>\n",
       "      <td>1.525</td>\n",
       "      <td>4.4</td>\n",
       "      <td>5.1</td>\n",
       "      <td>6.7</td>\n",
       "    </tr>\n",
       "    <tr>\n",
       "      <th>petal_width</th>\n",
       "      <td>90.0</td>\n",
       "      <td>1.207778</td>\n",
       "      <td>0.772305</td>\n",
       "      <td>0.1</td>\n",
       "      <td>0.225</td>\n",
       "      <td>1.4</td>\n",
       "      <td>1.8</td>\n",
       "      <td>2.5</td>\n",
       "    </tr>\n",
       "    <tr>\n",
       "      <th>species_versicolor</th>\n",
       "      <td>90.0</td>\n",
       "      <td>0.333333</td>\n",
       "      <td>0.474045</td>\n",
       "      <td>0.0</td>\n",
       "      <td>0.000</td>\n",
       "      <td>0.0</td>\n",
       "      <td>1.0</td>\n",
       "      <td>1.0</td>\n",
       "    </tr>\n",
       "    <tr>\n",
       "      <th>species_virginica</th>\n",
       "      <td>90.0</td>\n",
       "      <td>0.333333</td>\n",
       "      <td>0.474045</td>\n",
       "      <td>0.0</td>\n",
       "      <td>0.000</td>\n",
       "      <td>0.0</td>\n",
       "      <td>1.0</td>\n",
       "      <td>1.0</td>\n",
       "    </tr>\n",
       "  </tbody>\n",
       "</table>\n",
       "</div>"
      ],
      "text/plain": [
       "                    count      mean       std  min    25%  50%  75%  max\n",
       "sepal_length         90.0  5.784444  0.833688  4.3  5.000  5.8  6.4  7.7\n",
       "sepal_width          90.0  3.014444  0.384404  2.0  2.800  3.0  3.2  4.2\n",
       "petal_length         90.0  3.714444  1.735069  1.0  1.525  4.4  5.1  6.7\n",
       "petal_width          90.0  1.207778  0.772305  0.1  0.225  1.4  1.8  2.5\n",
       "species_versicolor   90.0  0.333333  0.474045  0.0  0.000  0.0  1.0  1.0\n",
       "species_virginica    90.0  0.333333  0.474045  0.0  0.000  0.0  1.0  1.0"
      ]
     },
     "metadata": {},
     "output_type": "display_data"
    },
    {
     "data": {
      "image/png": "[encoded data removed]",
      "text/plain": [
       "<Figure size 432x288 with 1 Axes>"
      ]
     },
     "metadata": {
      "needs_background": "light"
     },
     "output_type": "display_data"
    },
    {
     "name": "stdout",
     "output_type": "stream",
     "text": [
      "We reject the null hypothesis that species and sepal_length are independent.\n",
      "There appears to be a relationship between sepal_length and species.\n"
     ]
    }
   ],
   "source": [
    "train, validate, test = prep_split(prep_iris(new_iris_df()), \"species\")\n",
    "\n",
    "display(train.describe().transpose())\n",
    "\n",
    "cat_analysis(train, \"species\", \"sepal_length\")"
   ]
  },
  {
   "cell_type": "code",
   "execution_count": null,
   "metadata": {},
   "outputs": [
    {
     "data": {
      "text/html": [
       "<div>\n",
       "<style scoped>\n",
       "    .dataframe tbody tr th:only-of-type {\n",
       "        vertical-align: middle;\n",
       "    }\n",
       "\n",
       "    .dataframe tbody tr th {\n",
       "        vertical-align: top;\n",
       "    }\n",
       "\n",
       "    .dataframe thead th {\n",
       "        text-align: right;\n",
       "    }\n",
       "</style>\n",
       "<table border=\"1\" class=\"dataframe\">\n",
       "  <thead>\n",
       "    <tr style=\"text-align: right;\">\n",
       "      <th></th>\n",
       "      <th>count</th>\n",
       "      <th>mean</th>\n",
       "      <th>std</th>\n",
       "      <th>min</th>\n",
       "      <th>25%</th>\n",
       "      <th>50%</th>\n",
       "      <th>75%</th>\n",
       "      <th>max</th>\n",
       "    </tr>\n",
       "  </thead>\n",
       "  <tbody>\n",
       "    <tr>\n",
       "      <th>passenger_id</th>\n",
       "      <td>534.0</td>\n",
       "      <td>462.176030</td>\n",
       "      <td>263.197867</td>\n",
       "      <td>0.0</td>\n",
       "      <td>236.2500</td>\n",
       "      <td>478.5000</td>\n",
       "      <td>693.750000</td>\n",
       "      <td>890.0000</td>\n",
       "    </tr>\n",
       "    <tr>\n",
       "      <th>survived</th>\n",
       "      <td>534.0</td>\n",
       "      <td>0.415730</td>\n",
       "      <td>0.493310</td>\n",
       "      <td>0.0</td>\n",
       "      <td>0.0000</td>\n",
       "      <td>0.0000</td>\n",
       "      <td>1.000000</td>\n",
       "      <td>1.0000</td>\n",
       "    </tr>\n",
       "    <tr>\n",
       "      <th>pclass</th>\n",
       "      <td>534.0</td>\n",
       "      <td>2.307116</td>\n",
       "      <td>0.837257</td>\n",
       "      <td>1.0</td>\n",
       "      <td>2.0000</td>\n",
       "      <td>3.0000</td>\n",
       "      <td>3.000000</td>\n",
       "      <td>3.0000</td>\n",
       "    </tr>\n",
       "    <tr>\n",
       "      <th>sibsp</th>\n",
       "      <td>534.0</td>\n",
       "      <td>0.552434</td>\n",
       "      <td>1.139461</td>\n",
       "      <td>0.0</td>\n",
       "      <td>0.0000</td>\n",
       "      <td>0.0000</td>\n",
       "      <td>1.000000</td>\n",
       "      <td>8.0000</td>\n",
       "    </tr>\n",
       "    <tr>\n",
       "      <th>parch</th>\n",
       "      <td>534.0</td>\n",
       "      <td>0.393258</td>\n",
       "      <td>0.827999</td>\n",
       "      <td>0.0</td>\n",
       "      <td>0.0000</td>\n",
       "      <td>0.0000</td>\n",
       "      <td>0.000000</td>\n",
       "      <td>6.0000</td>\n",
       "    </tr>\n",
       "    <tr>\n",
       "      <th>fare</th>\n",
       "      <td>534.0</td>\n",
       "      <td>33.314153</td>\n",
       "      <td>51.417854</td>\n",
       "      <td>0.0</td>\n",
       "      <td>7.9031</td>\n",
       "      <td>15.2458</td>\n",
       "      <td>31.359375</td>\n",
       "      <td>512.3292</td>\n",
       "    </tr>\n",
       "    <tr>\n",
       "      <th>alone</th>\n",
       "      <td>534.0</td>\n",
       "      <td>0.591760</td>\n",
       "      <td>0.491969</td>\n",
       "      <td>0.0</td>\n",
       "      <td>0.0000</td>\n",
       "      <td>1.0000</td>\n",
       "      <td>1.000000</td>\n",
       "      <td>1.0000</td>\n",
       "    </tr>\n",
       "    <tr>\n",
       "      <th>sex_male</th>\n",
       "      <td>534.0</td>\n",
       "      <td>0.634831</td>\n",
       "      <td>0.481929</td>\n",
       "      <td>0.0</td>\n",
       "      <td>0.0000</td>\n",
       "      <td>1.0000</td>\n",
       "      <td>1.000000</td>\n",
       "      <td>1.0000</td>\n",
       "    </tr>\n",
       "    <tr>\n",
       "      <th>embark_town_Queenstown</th>\n",
       "      <td>534.0</td>\n",
       "      <td>0.089888</td>\n",
       "      <td>0.286289</td>\n",
       "      <td>0.0</td>\n",
       "      <td>0.0000</td>\n",
       "      <td>0.0000</td>\n",
       "      <td>0.000000</td>\n",
       "      <td>1.0000</td>\n",
       "    </tr>\n",
       "    <tr>\n",
       "      <th>embark_town_Southampton</th>\n",
       "      <td>534.0</td>\n",
       "      <td>0.707865</td>\n",
       "      <td>0.455170</td>\n",
       "      <td>0.0</td>\n",
       "      <td>0.0000</td>\n",
       "      <td>1.0000</td>\n",
       "      <td>1.000000</td>\n",
       "      <td>1.0000</td>\n",
       "    </tr>\n",
       "  </tbody>\n",
       "</table>\n",
       "</div>"
      ],
      "text/plain": [
       "                         count        mean         std  min       25%  \\\n",
       "passenger_id             534.0  462.176030  263.197867  0.0  236.2500   \n",
       "survived                 534.0    0.415730    0.493310  0.0    0.0000   \n",
       "pclass                   534.0    2.307116    0.837257  1.0    2.0000   \n",
       "sibsp                    534.0    0.552434    1.139461  0.0    0.0000   \n",
       "parch                    534.0    0.393258    0.827999  0.0    0.0000   \n",
       "fare                     534.0   33.314153   51.417854  0.0    7.9031   \n",
       "alone                    534.0    0.591760    0.491969  0.0    0.0000   \n",
       "sex_male                 534.0    0.634831    0.481929  0.0    0.0000   \n",
       "embark_town_Queenstown   534.0    0.089888    0.286289  0.0    0.0000   \n",
       "embark_town_Southampton  534.0    0.707865    0.455170  0.0    0.0000   \n",
       "\n",
       "                              50%         75%       max  \n",
       "passenger_id             478.5000  693.750000  890.0000  \n",
       "survived                   0.0000    1.000000    1.0000  \n",
       "pclass                     3.0000    3.000000    3.0000  \n",
       "sibsp                      0.0000    1.000000    8.0000  \n",
       "parch                      0.0000    0.000000    6.0000  \n",
       "fare                      15.2458   31.359375  512.3292  \n",
       "alone                      1.0000    1.000000    1.0000  \n",
       "sex_male                   1.0000    1.000000    1.0000  \n",
       "embark_town_Queenstown     0.0000    0.000000    1.0000  \n",
       "embark_town_Southampton    1.0000    1.000000    1.0000  "
      ]
     },
     "metadata": {},
     "output_type": "display_data"
    },
    {
     "data": {
      "image/png": "[encoded data removed]",
      "text/plain": [
       "<Figure size 432x288 with 1 Axes>"
      ]
     },
     "metadata": {
      "needs_background": "light"
     },
     "output_type": "display_data"
    },
    {
     "name": "stdout",
     "output_type": "stream",
     "text": [
      "We reject the null hypothesis that pclass and survived are independent.\n",
      "There appears to be a relationship between survived and pclass.\n"
     ]
    }
   ],
   "source": [
    "train, validate, test = prep_split(prep_tit(new_tit_df()), \"pclass\")\n",
    "\n",
    "display(train.describe().transpose())\n",
    "\n",
    "cat_analysis(train, \"pclass\", \"survived\")"
   ]
  },
  {
   "cell_type": "code",
   "execution_count": 6,
   "metadata": {},
   "outputs": [
    {
     "data": {
      "text/html": [
       "<div>\n",
       "<style scoped>\n",
       "    .dataframe tbody tr th:only-of-type {\n",
       "        vertical-align: middle;\n",
       "    }\n",
       "\n",
       "    .dataframe tbody tr th {\n",
       "        vertical-align: top;\n",
       "    }\n",
       "\n",
       "    .dataframe thead th {\n",
       "        text-align: right;\n",
       "    }\n",
       "</style>\n",
       "<table border=\"1\" class=\"dataframe\">\n",
       "  <thead>\n",
       "    <tr style=\"text-align: right;\">\n",
       "      <th></th>\n",
       "      <th>count</th>\n",
       "      <th>unique</th>\n",
       "      <th>top</th>\n",
       "      <th>freq</th>\n",
       "      <th>mean</th>\n",
       "      <th>std</th>\n",
       "      <th>min</th>\n",
       "      <th>25%</th>\n",
       "      <th>50%</th>\n",
       "      <th>75%</th>\n",
       "      <th>max</th>\n",
       "    </tr>\n",
       "  </thead>\n",
       "  <tbody>\n",
       "    <tr>\n",
       "      <th>customer_id</th>\n",
       "      <td>4225</td>\n",
       "      <td>4225</td>\n",
       "      <td>4098-NAUKP</td>\n",
       "      <td>1</td>\n",
       "      <td>NaN</td>\n",
       "      <td>NaN</td>\n",
       "      <td>NaN</td>\n",
       "      <td>NaN</td>\n",
       "      <td>NaN</td>\n",
       "      <td>NaN</td>\n",
       "      <td>NaN</td>\n",
       "    </tr>\n",
       "    <tr>\n",
       "      <th>gender</th>\n",
       "      <td>4225</td>\n",
       "      <td>2</td>\n",
       "      <td>Male</td>\n",
       "      <td>2144</td>\n",
       "      <td>NaN</td>\n",
       "      <td>NaN</td>\n",
       "      <td>NaN</td>\n",
       "      <td>NaN</td>\n",
       "      <td>NaN</td>\n",
       "      <td>NaN</td>\n",
       "      <td>NaN</td>\n",
       "    </tr>\n",
       "    <tr>\n",
       "      <th>senior_citizen</th>\n",
       "      <td>4225.0</td>\n",
       "      <td>NaN</td>\n",
       "      <td>NaN</td>\n",
       "      <td>NaN</td>\n",
       "      <td>0.165917</td>\n",
       "      <td>0.37205</td>\n",
       "      <td>0.0</td>\n",
       "      <td>0.0</td>\n",
       "      <td>0.0</td>\n",
       "      <td>0.0</td>\n",
       "      <td>1.0</td>\n",
       "    </tr>\n",
       "    <tr>\n",
       "      <th>partner</th>\n",
       "      <td>4225</td>\n",
       "      <td>2</td>\n",
       "      <td>No</td>\n",
       "      <td>2166</td>\n",
       "      <td>NaN</td>\n",
       "      <td>NaN</td>\n",
       "      <td>NaN</td>\n",
       "      <td>NaN</td>\n",
       "      <td>NaN</td>\n",
       "      <td>NaN</td>\n",
       "      <td>NaN</td>\n",
       "    </tr>\n",
       "    <tr>\n",
       "      <th>dependents</th>\n",
       "      <td>4225</td>\n",
       "      <td>2</td>\n",
       "      <td>No</td>\n",
       "      <td>2927</td>\n",
       "      <td>NaN</td>\n",
       "      <td>NaN</td>\n",
       "      <td>NaN</td>\n",
       "      <td>NaN</td>\n",
       "      <td>NaN</td>\n",
       "      <td>NaN</td>\n",
       "      <td>NaN</td>\n",
       "    </tr>\n",
       "    <tr>\n",
       "      <th>tenure</th>\n",
       "      <td>4225.0</td>\n",
       "      <td>NaN</td>\n",
       "      <td>NaN</td>\n",
       "      <td>NaN</td>\n",
       "      <td>32.121893</td>\n",
       "      <td>24.498996</td>\n",
       "      <td>0.0</td>\n",
       "      <td>8.0</td>\n",
       "      <td>28.0</td>\n",
       "      <td>55.0</td>\n",
       "      <td>72.0</td>\n",
       "    </tr>\n",
       "    <tr>\n",
       "      <th>phone_service</th>\n",
       "      <td>4225</td>\n",
       "      <td>2</td>\n",
       "      <td>Yes</td>\n",
       "      <td>3842</td>\n",
       "      <td>NaN</td>\n",
       "      <td>NaN</td>\n",
       "      <td>NaN</td>\n",
       "      <td>NaN</td>\n",
       "      <td>NaN</td>\n",
       "      <td>NaN</td>\n",
       "      <td>NaN</td>\n",
       "    </tr>\n",
       "    <tr>\n",
       "      <th>multiple_lines</th>\n",
       "      <td>4225</td>\n",
       "      <td>3</td>\n",
       "      <td>No</td>\n",
       "      <td>2058</td>\n",
       "      <td>NaN</td>\n",
       "      <td>NaN</td>\n",
       "      <td>NaN</td>\n",
       "      <td>NaN</td>\n",
       "      <td>NaN</td>\n",
       "      <td>NaN</td>\n",
       "      <td>NaN</td>\n",
       "    </tr>\n",
       "    <tr>\n",
       "      <th>online_security</th>\n",
       "      <td>4225</td>\n",
       "      <td>3</td>\n",
       "      <td>No</td>\n",
       "      <td>2101</td>\n",
       "      <td>NaN</td>\n",
       "      <td>NaN</td>\n",
       "      <td>NaN</td>\n",
       "      <td>NaN</td>\n",
       "      <td>NaN</td>\n",
       "      <td>NaN</td>\n",
       "      <td>NaN</td>\n",
       "    </tr>\n",
       "    <tr>\n",
       "      <th>online_backup</th>\n",
       "      <td>4225</td>\n",
       "      <td>3</td>\n",
       "      <td>No</td>\n",
       "      <td>1838</td>\n",
       "      <td>NaN</td>\n",
       "      <td>NaN</td>\n",
       "      <td>NaN</td>\n",
       "      <td>NaN</td>\n",
       "      <td>NaN</td>\n",
       "      <td>NaN</td>\n",
       "      <td>NaN</td>\n",
       "    </tr>\n",
       "    <tr>\n",
       "      <th>device_protection</th>\n",
       "      <td>4225</td>\n",
       "      <td>3</td>\n",
       "      <td>No</td>\n",
       "      <td>1870</td>\n",
       "      <td>NaN</td>\n",
       "      <td>NaN</td>\n",
       "      <td>NaN</td>\n",
       "      <td>NaN</td>\n",
       "      <td>NaN</td>\n",
       "      <td>NaN</td>\n",
       "      <td>NaN</td>\n",
       "    </tr>\n",
       "    <tr>\n",
       "      <th>tech_support</th>\n",
       "      <td>4225</td>\n",
       "      <td>3</td>\n",
       "      <td>No</td>\n",
       "      <td>2079</td>\n",
       "      <td>NaN</td>\n",
       "      <td>NaN</td>\n",
       "      <td>NaN</td>\n",
       "      <td>NaN</td>\n",
       "      <td>NaN</td>\n",
       "      <td>NaN</td>\n",
       "      <td>NaN</td>\n",
       "    </tr>\n",
       "    <tr>\n",
       "      <th>streaming_tv</th>\n",
       "      <td>4225</td>\n",
       "      <td>3</td>\n",
       "      <td>No</td>\n",
       "      <td>1712</td>\n",
       "      <td>NaN</td>\n",
       "      <td>NaN</td>\n",
       "      <td>NaN</td>\n",
       "      <td>NaN</td>\n",
       "      <td>NaN</td>\n",
       "      <td>NaN</td>\n",
       "      <td>NaN</td>\n",
       "    </tr>\n",
       "    <tr>\n",
       "      <th>streaming_movies</th>\n",
       "      <td>4225</td>\n",
       "      <td>3</td>\n",
       "      <td>No</td>\n",
       "      <td>1702</td>\n",
       "      <td>NaN</td>\n",
       "      <td>NaN</td>\n",
       "      <td>NaN</td>\n",
       "      <td>NaN</td>\n",
       "      <td>NaN</td>\n",
       "      <td>NaN</td>\n",
       "      <td>NaN</td>\n",
       "    </tr>\n",
       "    <tr>\n",
       "      <th>paperless_billing</th>\n",
       "      <td>4225</td>\n",
       "      <td>2</td>\n",
       "      <td>Yes</td>\n",
       "      <td>2473</td>\n",
       "      <td>NaN</td>\n",
       "      <td>NaN</td>\n",
       "      <td>NaN</td>\n",
       "      <td>NaN</td>\n",
       "      <td>NaN</td>\n",
       "      <td>NaN</td>\n",
       "      <td>NaN</td>\n",
       "    </tr>\n",
       "    <tr>\n",
       "      <th>monthly_charges</th>\n",
       "      <td>4225.0</td>\n",
       "      <td>NaN</td>\n",
       "      <td>NaN</td>\n",
       "      <td>NaN</td>\n",
       "      <td>64.536237</td>\n",
       "      <td>30.018203</td>\n",
       "      <td>18.4</td>\n",
       "      <td>35.25</td>\n",
       "      <td>70.35</td>\n",
       "      <td>89.75</td>\n",
       "      <td>118.6</td>\n",
       "    </tr>\n",
       "    <tr>\n",
       "      <th>total_charges</th>\n",
       "      <td>4225.0</td>\n",
       "      <td>NaN</td>\n",
       "      <td>NaN</td>\n",
       "      <td>NaN</td>\n",
       "      <td>2253.870402</td>\n",
       "      <td>2249.255208</td>\n",
       "      <td>0.0</td>\n",
       "      <td>399.25</td>\n",
       "      <td>1372.9</td>\n",
       "      <td>3694.7</td>\n",
       "      <td>8684.8</td>\n",
       "    </tr>\n",
       "    <tr>\n",
       "      <th>churn</th>\n",
       "      <td>4225</td>\n",
       "      <td>2</td>\n",
       "      <td>No</td>\n",
       "      <td>3104</td>\n",
       "      <td>NaN</td>\n",
       "      <td>NaN</td>\n",
       "      <td>NaN</td>\n",
       "      <td>NaN</td>\n",
       "      <td>NaN</td>\n",
       "      <td>NaN</td>\n",
       "      <td>NaN</td>\n",
       "    </tr>\n",
       "    <tr>\n",
       "      <th>contract_type</th>\n",
       "      <td>4225</td>\n",
       "      <td>3</td>\n",
       "      <td>Month-to-month</td>\n",
       "      <td>2338</td>\n",
       "      <td>NaN</td>\n",
       "      <td>NaN</td>\n",
       "      <td>NaN</td>\n",
       "      <td>NaN</td>\n",
       "      <td>NaN</td>\n",
       "      <td>NaN</td>\n",
       "      <td>NaN</td>\n",
       "    </tr>\n",
       "    <tr>\n",
       "      <th>internet_service_type</th>\n",
       "      <td>4225</td>\n",
       "      <td>3</td>\n",
       "      <td>Fiber optic</td>\n",
       "      <td>1847</td>\n",
       "      <td>NaN</td>\n",
       "      <td>NaN</td>\n",
       "      <td>NaN</td>\n",
       "      <td>NaN</td>\n",
       "      <td>NaN</td>\n",
       "      <td>NaN</td>\n",
       "      <td>NaN</td>\n",
       "    </tr>\n",
       "    <tr>\n",
       "      <th>payment_type</th>\n",
       "      <td>4225</td>\n",
       "      <td>4</td>\n",
       "      <td>Electronic check</td>\n",
       "      <td>1385</td>\n",
       "      <td>NaN</td>\n",
       "      <td>NaN</td>\n",
       "      <td>NaN</td>\n",
       "      <td>NaN</td>\n",
       "      <td>NaN</td>\n",
       "      <td>NaN</td>\n",
       "      <td>NaN</td>\n",
       "    </tr>\n",
       "    <tr>\n",
       "      <th>gender_encoded</th>\n",
       "      <td>4225.0</td>\n",
       "      <td>NaN</td>\n",
       "      <td>NaN</td>\n",
       "      <td>NaN</td>\n",
       "      <td>0.492544</td>\n",
       "      <td>0.500004</td>\n",
       "      <td>0.0</td>\n",
       "      <td>0.0</td>\n",
       "      <td>0.0</td>\n",
       "      <td>1.0</td>\n",
       "      <td>1.0</td>\n",
       "    </tr>\n",
       "    <tr>\n",
       "      <th>partner_encoded</th>\n",
       "      <td>4225.0</td>\n",
       "      <td>NaN</td>\n",
       "      <td>NaN</td>\n",
       "      <td>NaN</td>\n",
       "      <td>0.487337</td>\n",
       "      <td>0.499899</td>\n",
       "      <td>0.0</td>\n",
       "      <td>0.0</td>\n",
       "      <td>0.0</td>\n",
       "      <td>1.0</td>\n",
       "      <td>1.0</td>\n",
       "    </tr>\n",
       "    <tr>\n",
       "      <th>dependents_encoded</th>\n",
       "      <td>4225.0</td>\n",
       "      <td>NaN</td>\n",
       "      <td>NaN</td>\n",
       "      <td>NaN</td>\n",
       "      <td>0.307219</td>\n",
       "      <td>0.461396</td>\n",
       "      <td>0.0</td>\n",
       "      <td>0.0</td>\n",
       "      <td>0.0</td>\n",
       "      <td>1.0</td>\n",
       "      <td>1.0</td>\n",
       "    </tr>\n",
       "    <tr>\n",
       "      <th>phone_service_encoded</th>\n",
       "      <td>4225.0</td>\n",
       "      <td>NaN</td>\n",
       "      <td>NaN</td>\n",
       "      <td>NaN</td>\n",
       "      <td>0.909349</td>\n",
       "      <td>0.287146</td>\n",
       "      <td>0.0</td>\n",
       "      <td>1.0</td>\n",
       "      <td>1.0</td>\n",
       "      <td>1.0</td>\n",
       "      <td>1.0</td>\n",
       "    </tr>\n",
       "    <tr>\n",
       "      <th>paperless_billing_encoded</th>\n",
       "      <td>4225.0</td>\n",
       "      <td>NaN</td>\n",
       "      <td>NaN</td>\n",
       "      <td>NaN</td>\n",
       "      <td>0.585325</td>\n",
       "      <td>0.492724</td>\n",
       "      <td>0.0</td>\n",
       "      <td>0.0</td>\n",
       "      <td>1.0</td>\n",
       "      <td>1.0</td>\n",
       "      <td>1.0</td>\n",
       "    </tr>\n",
       "    <tr>\n",
       "      <th>churn_encoded</th>\n",
       "      <td>4225.0</td>\n",
       "      <td>NaN</td>\n",
       "      <td>NaN</td>\n",
       "      <td>NaN</td>\n",
       "      <td>0.265325</td>\n",
       "      <td>0.441559</td>\n",
       "      <td>0.0</td>\n",
       "      <td>0.0</td>\n",
       "      <td>0.0</td>\n",
       "      <td>1.0</td>\n",
       "      <td>1.0</td>\n",
       "    </tr>\n",
       "    <tr>\n",
       "      <th>multiple_lines_No phone service</th>\n",
       "      <td>4225.0</td>\n",
       "      <td>NaN</td>\n",
       "      <td>NaN</td>\n",
       "      <td>NaN</td>\n",
       "      <td>0.090651</td>\n",
       "      <td>0.287146</td>\n",
       "      <td>0.0</td>\n",
       "      <td>0.0</td>\n",
       "      <td>0.0</td>\n",
       "      <td>0.0</td>\n",
       "      <td>1.0</td>\n",
       "    </tr>\n",
       "    <tr>\n",
       "      <th>multiple_lines_Yes</th>\n",
       "      <td>4225.0</td>\n",
       "      <td>NaN</td>\n",
       "      <td>NaN</td>\n",
       "      <td>NaN</td>\n",
       "      <td>0.422249</td>\n",
       "      <td>0.493976</td>\n",
       "      <td>0.0</td>\n",
       "      <td>0.0</td>\n",
       "      <td>0.0</td>\n",
       "      <td>1.0</td>\n",
       "      <td>1.0</td>\n",
       "    </tr>\n",
       "    <tr>\n",
       "      <th>online_security_No internet service</th>\n",
       "      <td>4225.0</td>\n",
       "      <td>NaN</td>\n",
       "      <td>NaN</td>\n",
       "      <td>NaN</td>\n",
       "      <td>0.219172</td>\n",
       "      <td>0.413734</td>\n",
       "      <td>0.0</td>\n",
       "      <td>0.0</td>\n",
       "      <td>0.0</td>\n",
       "      <td>0.0</td>\n",
       "      <td>1.0</td>\n",
       "    </tr>\n",
       "    <tr>\n",
       "      <th>online_security_Yes</th>\n",
       "      <td>4225.0</td>\n",
       "      <td>NaN</td>\n",
       "      <td>NaN</td>\n",
       "      <td>NaN</td>\n",
       "      <td>0.28355</td>\n",
       "      <td>0.450774</td>\n",
       "      <td>0.0</td>\n",
       "      <td>0.0</td>\n",
       "      <td>0.0</td>\n",
       "      <td>1.0</td>\n",
       "      <td>1.0</td>\n",
       "    </tr>\n",
       "    <tr>\n",
       "      <th>online_backup_No internet service</th>\n",
       "      <td>4225.0</td>\n",
       "      <td>NaN</td>\n",
       "      <td>NaN</td>\n",
       "      <td>NaN</td>\n",
       "      <td>0.219172</td>\n",
       "      <td>0.413734</td>\n",
       "      <td>0.0</td>\n",
       "      <td>0.0</td>\n",
       "      <td>0.0</td>\n",
       "      <td>0.0</td>\n",
       "      <td>1.0</td>\n",
       "    </tr>\n",
       "    <tr>\n",
       "      <th>online_backup_Yes</th>\n",
       "      <td>4225.0</td>\n",
       "      <td>NaN</td>\n",
       "      <td>NaN</td>\n",
       "      <td>NaN</td>\n",
       "      <td>0.345799</td>\n",
       "      <td>0.475684</td>\n",
       "      <td>0.0</td>\n",
       "      <td>0.0</td>\n",
       "      <td>0.0</td>\n",
       "      <td>1.0</td>\n",
       "      <td>1.0</td>\n",
       "    </tr>\n",
       "    <tr>\n",
       "      <th>device_protection_No internet service</th>\n",
       "      <td>4225.0</td>\n",
       "      <td>NaN</td>\n",
       "      <td>NaN</td>\n",
       "      <td>NaN</td>\n",
       "      <td>0.219172</td>\n",
       "      <td>0.413734</td>\n",
       "      <td>0.0</td>\n",
       "      <td>0.0</td>\n",
       "      <td>0.0</td>\n",
       "      <td>0.0</td>\n",
       "      <td>1.0</td>\n",
       "    </tr>\n",
       "    <tr>\n",
       "      <th>device_protection_Yes</th>\n",
       "      <td>4225.0</td>\n",
       "      <td>NaN</td>\n",
       "      <td>NaN</td>\n",
       "      <td>NaN</td>\n",
       "      <td>0.338225</td>\n",
       "      <td>0.473161</td>\n",
       "      <td>0.0</td>\n",
       "      <td>0.0</td>\n",
       "      <td>0.0</td>\n",
       "      <td>1.0</td>\n",
       "      <td>1.0</td>\n",
       "    </tr>\n",
       "    <tr>\n",
       "      <th>tech_support_No internet service</th>\n",
       "      <td>4225.0</td>\n",
       "      <td>NaN</td>\n",
       "      <td>NaN</td>\n",
       "      <td>NaN</td>\n",
       "      <td>0.219172</td>\n",
       "      <td>0.413734</td>\n",
       "      <td>0.0</td>\n",
       "      <td>0.0</td>\n",
       "      <td>0.0</td>\n",
       "      <td>0.0</td>\n",
       "      <td>1.0</td>\n",
       "    </tr>\n",
       "    <tr>\n",
       "      <th>tech_support_Yes</th>\n",
       "      <td>4225.0</td>\n",
       "      <td>NaN</td>\n",
       "      <td>NaN</td>\n",
       "      <td>NaN</td>\n",
       "      <td>0.288757</td>\n",
       "      <td>0.453239</td>\n",
       "      <td>0.0</td>\n",
       "      <td>0.0</td>\n",
       "      <td>0.0</td>\n",
       "      <td>1.0</td>\n",
       "      <td>1.0</td>\n",
       "    </tr>\n",
       "    <tr>\n",
       "      <th>streaming_tv_No internet service</th>\n",
       "      <td>4225.0</td>\n",
       "      <td>NaN</td>\n",
       "      <td>NaN</td>\n",
       "      <td>NaN</td>\n",
       "      <td>0.219172</td>\n",
       "      <td>0.413734</td>\n",
       "      <td>0.0</td>\n",
       "      <td>0.0</td>\n",
       "      <td>0.0</td>\n",
       "      <td>0.0</td>\n",
       "      <td>1.0</td>\n",
       "    </tr>\n",
       "    <tr>\n",
       "      <th>streaming_tv_Yes</th>\n",
       "      <td>4225.0</td>\n",
       "      <td>NaN</td>\n",
       "      <td>NaN</td>\n",
       "      <td>NaN</td>\n",
       "      <td>0.375621</td>\n",
       "      <td>0.48434</td>\n",
       "      <td>0.0</td>\n",
       "      <td>0.0</td>\n",
       "      <td>0.0</td>\n",
       "      <td>1.0</td>\n",
       "      <td>1.0</td>\n",
       "    </tr>\n",
       "    <tr>\n",
       "      <th>streaming_movies_No internet service</th>\n",
       "      <td>4225.0</td>\n",
       "      <td>NaN</td>\n",
       "      <td>NaN</td>\n",
       "      <td>NaN</td>\n",
       "      <td>0.219172</td>\n",
       "      <td>0.413734</td>\n",
       "      <td>0.0</td>\n",
       "      <td>0.0</td>\n",
       "      <td>0.0</td>\n",
       "      <td>0.0</td>\n",
       "      <td>1.0</td>\n",
       "    </tr>\n",
       "    <tr>\n",
       "      <th>streaming_movies_Yes</th>\n",
       "      <td>4225.0</td>\n",
       "      <td>NaN</td>\n",
       "      <td>NaN</td>\n",
       "      <td>NaN</td>\n",
       "      <td>0.377988</td>\n",
       "      <td>0.484942</td>\n",
       "      <td>0.0</td>\n",
       "      <td>0.0</td>\n",
       "      <td>0.0</td>\n",
       "      <td>1.0</td>\n",
       "      <td>1.0</td>\n",
       "    </tr>\n",
       "    <tr>\n",
       "      <th>contract_type_One year</th>\n",
       "      <td>4225.0</td>\n",
       "      <td>NaN</td>\n",
       "      <td>NaN</td>\n",
       "      <td>NaN</td>\n",
       "      <td>0.208521</td>\n",
       "      <td>0.406299</td>\n",
       "      <td>0.0</td>\n",
       "      <td>0.0</td>\n",
       "      <td>0.0</td>\n",
       "      <td>0.0</td>\n",
       "      <td>1.0</td>\n",
       "    </tr>\n",
       "    <tr>\n",
       "      <th>contract_type_Two year</th>\n",
       "      <td>4225.0</td>\n",
       "      <td>NaN</td>\n",
       "      <td>NaN</td>\n",
       "      <td>NaN</td>\n",
       "      <td>0.238107</td>\n",
       "      <td>0.425975</td>\n",
       "      <td>0.0</td>\n",
       "      <td>0.0</td>\n",
       "      <td>0.0</td>\n",
       "      <td>0.0</td>\n",
       "      <td>1.0</td>\n",
       "    </tr>\n",
       "    <tr>\n",
       "      <th>internet_service_type_Fiber optic</th>\n",
       "      <td>4225.0</td>\n",
       "      <td>NaN</td>\n",
       "      <td>NaN</td>\n",
       "      <td>NaN</td>\n",
       "      <td>0.43716</td>\n",
       "      <td>0.496094</td>\n",
       "      <td>0.0</td>\n",
       "      <td>0.0</td>\n",
       "      <td>0.0</td>\n",
       "      <td>1.0</td>\n",
       "      <td>1.0</td>\n",
       "    </tr>\n",
       "    <tr>\n",
       "      <th>internet_service_type_None</th>\n",
       "      <td>4225.0</td>\n",
       "      <td>NaN</td>\n",
       "      <td>NaN</td>\n",
       "      <td>NaN</td>\n",
       "      <td>0.219172</td>\n",
       "      <td>0.413734</td>\n",
       "      <td>0.0</td>\n",
       "      <td>0.0</td>\n",
       "      <td>0.0</td>\n",
       "      <td>0.0</td>\n",
       "      <td>1.0</td>\n",
       "    </tr>\n",
       "    <tr>\n",
       "      <th>payment_type_Credit card (automatic)</th>\n",
       "      <td>4225.0</td>\n",
       "      <td>NaN</td>\n",
       "      <td>NaN</td>\n",
       "      <td>NaN</td>\n",
       "      <td>0.218225</td>\n",
       "      <td>0.41309</td>\n",
       "      <td>0.0</td>\n",
       "      <td>0.0</td>\n",
       "      <td>0.0</td>\n",
       "      <td>0.0</td>\n",
       "      <td>1.0</td>\n",
       "    </tr>\n",
       "    <tr>\n",
       "      <th>payment_type_Electronic check</th>\n",
       "      <td>4225.0</td>\n",
       "      <td>NaN</td>\n",
       "      <td>NaN</td>\n",
       "      <td>NaN</td>\n",
       "      <td>0.327811</td>\n",
       "      <td>0.469471</td>\n",
       "      <td>0.0</td>\n",
       "      <td>0.0</td>\n",
       "      <td>0.0</td>\n",
       "      <td>1.0</td>\n",
       "      <td>1.0</td>\n",
       "    </tr>\n",
       "    <tr>\n",
       "      <th>payment_type_Mailed check</th>\n",
       "      <td>4225.0</td>\n",
       "      <td>NaN</td>\n",
       "      <td>NaN</td>\n",
       "      <td>NaN</td>\n",
       "      <td>0.246154</td>\n",
       "      <td>0.43082</td>\n",
       "      <td>0.0</td>\n",
       "      <td>0.0</td>\n",
       "      <td>0.0</td>\n",
       "      <td>0.0</td>\n",
       "      <td>1.0</td>\n",
       "    </tr>\n",
       "  </tbody>\n",
       "</table>\n",
       "</div>"
      ],
      "text/plain": [
       "                                        count unique               top  freq  \\\n",
       "customer_id                              4225   4225        4098-NAUKP     1   \n",
       "gender                                   4225      2              Male  2144   \n",
       "senior_citizen                         4225.0    NaN               NaN   NaN   \n",
       "partner                                  4225      2                No  2166   \n",
       "dependents                               4225      2                No  2927   \n",
       "tenure                                 4225.0    NaN               NaN   NaN   \n",
       "phone_service                            4225      2               Yes  3842   \n",
       "multiple_lines                           4225      3                No  2058   \n",
       "online_security                          4225      3                No  2101   \n",
       "online_backup                            4225      3                No  1838   \n",
       "device_protection                        4225      3                No  1870   \n",
       "tech_support                             4225      3                No  2079   \n",
       "streaming_tv                             4225      3                No  1712   \n",
       "streaming_movies                         4225      3                No  1702   \n",
       "paperless_billing                        4225      2               Yes  2473   \n",
       "monthly_charges                        4225.0    NaN               NaN   NaN   \n",
       "total_charges                          4225.0    NaN               NaN   NaN   \n",
       "churn                                    4225      2                No  3104   \n",
       "contract_type                            4225      3    Month-to-month  2338   \n",
       "internet_service_type                    4225      3       Fiber optic  1847   \n",
       "payment_type                             4225      4  Electronic check  1385   \n",
       "gender_encoded                         4225.0    NaN               NaN   NaN   \n",
       "partner_encoded                        4225.0    NaN               NaN   NaN   \n",
       "dependents_encoded                     4225.0    NaN               NaN   NaN   \n",
       "phone_service_encoded                  4225.0    NaN               NaN   NaN   \n",
       "paperless_billing_encoded              4225.0    NaN               NaN   NaN   \n",
       "churn_encoded                          4225.0    NaN               NaN   NaN   \n",
       "multiple_lines_No phone service        4225.0    NaN               NaN   NaN   \n",
       "multiple_lines_Yes                     4225.0    NaN               NaN   NaN   \n",
       "online_security_No internet service    4225.0    NaN               NaN   NaN   \n",
       "online_security_Yes                    4225.0    NaN               NaN   NaN   \n",
       "online_backup_No internet service      4225.0    NaN               NaN   NaN   \n",
       "online_backup_Yes                      4225.0    NaN               NaN   NaN   \n",
       "device_protection_No internet service  4225.0    NaN               NaN   NaN   \n",
       "device_protection_Yes                  4225.0    NaN               NaN   NaN   \n",
       "tech_support_No internet service       4225.0    NaN               NaN   NaN   \n",
       "tech_support_Yes                       4225.0    NaN               NaN   NaN   \n",
       "streaming_tv_No internet service       4225.0    NaN               NaN   NaN   \n",
       "streaming_tv_Yes                       4225.0    NaN               NaN   NaN   \n",
       "streaming_movies_No internet service   4225.0    NaN               NaN   NaN   \n",
       "streaming_movies_Yes                   4225.0    NaN               NaN   NaN   \n",
       "contract_type_One year                 4225.0    NaN               NaN   NaN   \n",
       "contract_type_Two year                 4225.0    NaN               NaN   NaN   \n",
       "internet_service_type_Fiber optic      4225.0    NaN               NaN   NaN   \n",
       "internet_service_type_None             4225.0    NaN               NaN   NaN   \n",
       "payment_type_Credit card (automatic)   4225.0    NaN               NaN   NaN   \n",
       "payment_type_Electronic check          4225.0    NaN               NaN   NaN   \n",
       "payment_type_Mailed check              4225.0    NaN               NaN   NaN   \n",
       "\n",
       "                                              mean          std   min     25%  \\\n",
       "customer_id                                    NaN          NaN   NaN     NaN   \n",
       "gender                                         NaN          NaN   NaN     NaN   \n",
       "senior_citizen                            0.165917      0.37205   0.0     0.0   \n",
       "partner                                        NaN          NaN   NaN     NaN   \n",
       "dependents                                     NaN          NaN   NaN     NaN   \n",
       "tenure                                   32.121893    24.498996   0.0     8.0   \n",
       "phone_service                                  NaN          NaN   NaN     NaN   \n",
       "multiple_lines                                 NaN          NaN   NaN     NaN   \n",
       "online_security                                NaN          NaN   NaN     NaN   \n",
       "online_backup                                  NaN          NaN   NaN     NaN   \n",
       "device_protection                              NaN          NaN   NaN     NaN   \n",
       "tech_support                                   NaN          NaN   NaN     NaN   \n",
       "streaming_tv                                   NaN          NaN   NaN     NaN   \n",
       "streaming_movies                               NaN          NaN   NaN     NaN   \n",
       "paperless_billing                              NaN          NaN   NaN     NaN   \n",
       "monthly_charges                          64.536237    30.018203  18.4   35.25   \n",
       "total_charges                          2253.870402  2249.255208   0.0  399.25   \n",
       "churn                                          NaN          NaN   NaN     NaN   \n",
       "contract_type                                  NaN          NaN   NaN     NaN   \n",
       "internet_service_type                          NaN          NaN   NaN     NaN   \n",
       "payment_type                                   NaN          NaN   NaN     NaN   \n",
       "gender_encoded                            0.492544     0.500004   0.0     0.0   \n",
       "partner_encoded                           0.487337     0.499899   0.0     0.0   \n",
       "dependents_encoded                        0.307219     0.461396   0.0     0.0   \n",
       "phone_service_encoded                     0.909349     0.287146   0.0     1.0   \n",
       "paperless_billing_encoded                 0.585325     0.492724   0.0     0.0   \n",
       "churn_encoded                             0.265325     0.441559   0.0     0.0   \n",
       "multiple_lines_No phone service           0.090651     0.287146   0.0     0.0   \n",
       "multiple_lines_Yes                        0.422249     0.493976   0.0     0.0   \n",
       "online_security_No internet service       0.219172     0.413734   0.0     0.0   \n",
       "online_security_Yes                        0.28355     0.450774   0.0     0.0   \n",
       "online_backup_No internet service         0.219172     0.413734   0.0     0.0   \n",
       "online_backup_Yes                         0.345799     0.475684   0.0     0.0   \n",
       "device_protection_No internet service     0.219172     0.413734   0.0     0.0   \n",
       "device_protection_Yes                     0.338225     0.473161   0.0     0.0   \n",
       "tech_support_No internet service          0.219172     0.413734   0.0     0.0   \n",
       "tech_support_Yes                          0.288757     0.453239   0.0     0.0   \n",
       "streaming_tv_No internet service          0.219172     0.413734   0.0     0.0   \n",
       "streaming_tv_Yes                          0.375621      0.48434   0.0     0.0   \n",
       "streaming_movies_No internet service      0.219172     0.413734   0.0     0.0   \n",
       "streaming_movies_Yes                      0.377988     0.484942   0.0     0.0   \n",
       "contract_type_One year                    0.208521     0.406299   0.0     0.0   \n",
       "contract_type_Two year                    0.238107     0.425975   0.0     0.0   \n",
       "internet_service_type_Fiber optic          0.43716     0.496094   0.0     0.0   \n",
       "internet_service_type_None                0.219172     0.413734   0.0     0.0   \n",
       "payment_type_Credit card (automatic)      0.218225      0.41309   0.0     0.0   \n",
       "payment_type_Electronic check             0.327811     0.469471   0.0     0.0   \n",
       "payment_type_Mailed check                 0.246154      0.43082   0.0     0.0   \n",
       "\n",
       "                                          50%     75%     max  \n",
       "customer_id                               NaN     NaN     NaN  \n",
       "gender                                    NaN     NaN     NaN  \n",
       "senior_citizen                            0.0     0.0     1.0  \n",
       "partner                                   NaN     NaN     NaN  \n",
       "dependents                                NaN     NaN     NaN  \n",
       "tenure                                   28.0    55.0    72.0  \n",
       "phone_service                             NaN     NaN     NaN  \n",
       "multiple_lines                            NaN     NaN     NaN  \n",
       "online_security                           NaN     NaN     NaN  \n",
       "online_backup                             NaN     NaN     NaN  \n",
       "device_protection                         NaN     NaN     NaN  \n",
       "tech_support                              NaN     NaN     NaN  \n",
       "streaming_tv                              NaN     NaN     NaN  \n",
       "streaming_movies                          NaN     NaN     NaN  \n",
       "paperless_billing                         NaN     NaN     NaN  \n",
       "monthly_charges                         70.35   89.75   118.6  \n",
       "total_charges                          1372.9  3694.7  8684.8  \n",
       "churn                                     NaN     NaN     NaN  \n",
       "contract_type                             NaN     NaN     NaN  \n",
       "internet_service_type                     NaN     NaN     NaN  \n",
       "payment_type                              NaN     NaN     NaN  \n",
       "gender_encoded                            0.0     1.0     1.0  \n",
       "partner_encoded                           0.0     1.0     1.0  \n",
       "dependents_encoded                        0.0     1.0     1.0  \n",
       "phone_service_encoded                     1.0     1.0     1.0  \n",
       "paperless_billing_encoded                 1.0     1.0     1.0  \n",
       "churn_encoded                             0.0     1.0     1.0  \n",
       "multiple_lines_No phone service           0.0     0.0     1.0  \n",
       "multiple_lines_Yes                        0.0     1.0     1.0  \n",
       "online_security_No internet service       0.0     0.0     1.0  \n",
       "online_security_Yes                       0.0     1.0     1.0  \n",
       "online_backup_No internet service         0.0     0.0     1.0  \n",
       "online_backup_Yes                         0.0     1.0     1.0  \n",
       "device_protection_No internet service     0.0     0.0     1.0  \n",
       "device_protection_Yes                     0.0     1.0     1.0  \n",
       "tech_support_No internet service          0.0     0.0     1.0  \n",
       "tech_support_Yes                          0.0     1.0     1.0  \n",
       "streaming_tv_No internet service          0.0     0.0     1.0  \n",
       "streaming_tv_Yes                          0.0     1.0     1.0  \n",
       "streaming_movies_No internet service      0.0     0.0     1.0  \n",
       "streaming_movies_Yes                      0.0     1.0     1.0  \n",
       "contract_type_One year                    0.0     0.0     1.0  \n",
       "contract_type_Two year                    0.0     0.0     1.0  \n",
       "internet_service_type_Fiber optic         0.0     1.0     1.0  \n",
       "internet_service_type_None                0.0     0.0     1.0  \n",
       "payment_type_Credit card (automatic)      0.0     0.0     1.0  \n",
       "payment_type_Electronic check             0.0     1.0     1.0  \n",
       "payment_type_Mailed check                 0.0     0.0     1.0  "
      ]
     },
     "metadata": {},
     "output_type": "display_data"
    },
    {
     "name": "stdout",
     "output_type": "stream",
     "text": [
      "gender\n",
      "Male      2144\n",
      "Female    2081\n",
      "Name: gender, dtype: int64\n",
      "Male      50.745562\n",
      "Female    49.254438\n",
      "Name: gender, dtype: float64\n"
     ]
    },
    {
     "data": {
      "image/png": "[encoded data removed]",
      "text/plain": [
       "<Figure size 432x288 with 1 Axes>"
      ]
     },
     "metadata": {
      "needs_background": "light"
     },
     "output_type": "display_data"
    },
    {
     "name": "stdout",
     "output_type": "stream",
     "text": [
      "senior_citizen\n",
      "0    3524\n",
      "1     701\n",
      "Name: senior_citizen, dtype: int64\n",
      "0    83.408284\n",
      "1    16.591716\n",
      "Name: senior_citizen, dtype: float64\n"
     ]
    },
    {
     "data": {
      "image/png": "[encoded data removed]",
      "text/plain": [
       "<Figure size 432x288 with 1 Axes>"
      ]
     },
     "metadata": {
      "needs_background": "light"
     },
     "output_type": "display_data"
    },
    {
     "name": "stdout",
     "output_type": "stream",
     "text": [
      "partner\n",
      "No     2166\n",
      "Yes    2059\n",
      "Name: partner, dtype: int64\n",
      "No     51.266272\n",
      "Yes    48.733728\n",
      "Name: partner, dtype: float64\n"
     ]
    },
    {
     "data": {
      "image/png": "[encoded data removed]",
      "text/plain": [
       "<Figure size 432x288 with 1 Axes>"
      ]
     },
     "metadata": {
      "needs_background": "light"
     },
     "output_type": "display_data"
    },
    {
     "name": "stdout",
     "output_type": "stream",
     "text": [
      "dependents\n",
      "No     2927\n",
      "Yes    1298\n",
      "Name: dependents, dtype: int64\n",
      "No     69.278107\n",
      "Yes    30.721893\n",
      "Name: dependents, dtype: float64\n"
     ]
    },
    {
     "data": {
      "image/png": "[encoded data removed]",
      "text/plain": [
       "<Figure size 432x288 with 1 Axes>"
      ]
     },
     "metadata": {
      "needs_background": "light"
     },
     "output_type": "display_data"
    },
    {
     "name": "stdout",
     "output_type": "stream",
     "text": [
      "tenure\n",
      "1     365\n",
      "72    212\n",
      "2     133\n",
      "3     121\n",
      "4     115\n",
      "71    101\n",
      "7      85\n",
      "8      83\n",
      "5      78\n",
      "70     77\n",
      "6      71\n",
      "10     70\n",
      "9      67\n",
      "13     66\n",
      "11     66\n",
      "68     66\n",
      "15     62\n",
      "17     60\n",
      "18     58\n",
      "67     58\n",
      "12     57\n",
      "22     56\n",
      "16     53\n",
      "27     52\n",
      "24     51\n",
      "56     51\n",
      "23     51\n",
      "69     50\n",
      "65     50\n",
      "66     50\n",
      "14     49\n",
      "35     48\n",
      "52     47\n",
      "25     47\n",
      "46     47\n",
      "60     47\n",
      "30     45\n",
      "32     44\n",
      "26     44\n",
      "48     44\n",
      "47     44\n",
      "41     43\n",
      "29     43\n",
      "57     43\n",
      "61     43\n",
      "55     41\n",
      "42     41\n",
      "38     41\n",
      "20     41\n",
      "40     41\n",
      "63     41\n",
      "33     41\n",
      "21     40\n",
      "62     40\n",
      "53     40\n",
      "34     39\n",
      "50     39\n",
      "51     39\n",
      "43     38\n",
      "64     38\n",
      "19     37\n",
      "37     36\n",
      "59     36\n",
      "45     36\n",
      "49     36\n",
      "54     35\n",
      "36     34\n",
      "39     34\n",
      "31     33\n",
      "58     32\n",
      "44     28\n",
      "28     27\n",
      "0       8\n",
      "Name: tenure, dtype: int64\n",
      "1     8.639053\n",
      "72    5.017751\n",
      "2     3.147929\n",
      "3     2.863905\n",
      "4     2.721893\n",
      "71    2.390533\n",
      "7     2.011834\n",
      "8     1.964497\n",
      "5     1.846154\n",
      "70    1.822485\n",
      "6     1.680473\n",
      "10    1.656805\n",
      "9     1.585799\n",
      "13    1.562130\n",
      "11    1.562130\n",
      "68    1.562130\n",
      "15    1.467456\n",
      "17    1.420118\n",
      "18    1.372781\n",
      "67    1.372781\n",
      "12    1.349112\n",
      "22    1.325444\n",
      "16    1.254438\n",
      "27    1.230769\n",
      "24    1.207101\n",
      "56    1.207101\n",
      "23    1.207101\n",
      "69    1.183432\n",
      "65    1.183432\n",
      "66    1.183432\n",
      "14    1.159763\n",
      "35    1.136095\n",
      "52    1.112426\n",
      "25    1.112426\n",
      "46    1.112426\n",
      "60    1.112426\n",
      "30    1.065089\n",
      "32    1.041420\n",
      "26    1.041420\n",
      "48    1.041420\n",
      "47    1.041420\n",
      "41    1.017751\n",
      "29    1.017751\n",
      "57    1.017751\n",
      "61    1.017751\n",
      "55    0.970414\n",
      "42    0.970414\n",
      "38    0.970414\n",
      "20    0.970414\n",
      "40    0.970414\n",
      "63    0.970414\n",
      "33    0.970414\n",
      "21    0.946746\n",
      "62    0.946746\n",
      "53    0.946746\n",
      "34    0.923077\n",
      "50    0.923077\n",
      "51    0.923077\n",
      "43    0.899408\n",
      "64    0.899408\n",
      "19    0.875740\n",
      "37    0.852071\n",
      "59    0.852071\n",
      "45    0.852071\n",
      "49    0.852071\n",
      "54    0.828402\n",
      "36    0.804734\n",
      "39    0.804734\n",
      "31    0.781065\n",
      "58    0.757396\n",
      "44    0.662722\n",
      "28    0.639053\n",
      "0     0.189349\n",
      "Name: tenure, dtype: float64\n"
     ]
    },
    {
     "data": {
      "image/png": "[encoded data removed]",
      "text/plain": [
       "<Figure size 432x288 with 1 Axes>"
      ]
     },
     "metadata": {
      "needs_background": "light"
     },
     "output_type": "display_data"
    },
    {
     "name": "stdout",
     "output_type": "stream",
     "text": [
      "phone_service\n",
      "Yes    3842\n",
      "No      383\n",
      "Name: phone_service, dtype: int64\n",
      "Yes    90.934911\n",
      "No      9.065089\n",
      "Name: phone_service, dtype: float64\n"
     ]
    },
    {
     "data": {
      "image/png": "[encoded data removed]",
      "text/plain": [
       "<Figure size 432x288 with 1 Axes>"
      ]
     },
     "metadata": {
      "needs_background": "light"
     },
     "output_type": "display_data"
    },
    {
     "name": "stdout",
     "output_type": "stream",
     "text": [
      "multiple_lines\n",
      "No                  2058\n",
      "Yes                 1784\n",
      "No phone service     383\n",
      "Name: multiple_lines, dtype: int64\n",
      "No                  48.710059\n",
      "Yes                 42.224852\n",
      "No phone service     9.065089\n",
      "Name: multiple_lines, dtype: float64\n"
     ]
    },
    {
     "data": {
      "image/png": "[encoded data removed]",
      "text/plain": [
       "<Figure size 432x288 with 1 Axes>"
      ]
     },
     "metadata": {
      "needs_background": "light"
     },
     "output_type": "display_data"
    },
    {
     "name": "stdout",
     "output_type": "stream",
     "text": [
      "online_security\n",
      "No                     2101\n",
      "Yes                    1198\n",
      "No internet service     926\n",
      "Name: online_security, dtype: int64\n",
      "No                     49.727811\n",
      "Yes                    28.355030\n",
      "No internet service    21.917160\n",
      "Name: online_security, dtype: float64\n"
     ]
    },
    {
     "data": {
      "image/png": "[encoded data removed]",
      "text/plain": [
       "<Figure size 432x288 with 1 Axes>"
      ]
     },
     "metadata": {
      "needs_background": "light"
     },
     "output_type": "display_data"
    },
    {
     "name": "stdout",
     "output_type": "stream",
     "text": [
      "online_backup\n",
      "No                     1838\n",
      "Yes                    1461\n",
      "No internet service     926\n",
      "Name: online_backup, dtype: int64\n",
      "No                     43.502959\n",
      "Yes                    34.579882\n",
      "No internet service    21.917160\n",
      "Name: online_backup, dtype: float64\n"
     ]
    },
    {
     "data": {
      "image/png": "[encoded data removed]",
      "text/plain": [
       "<Figure size 432x288 with 1 Axes>"
      ]
     },
     "metadata": {
      "needs_background": "light"
     },
     "output_type": "display_data"
    },
    {
     "name": "stdout",
     "output_type": "stream",
     "text": [
      "device_protection\n",
      "No                     1870\n",
      "Yes                    1429\n",
      "No internet service     926\n",
      "Name: device_protection, dtype: int64\n",
      "No                     44.260355\n",
      "Yes                    33.822485\n",
      "No internet service    21.917160\n",
      "Name: device_protection, dtype: float64\n"
     ]
    },
    {
     "data": {
      "image/png": "[encoded data removed]",
      "text/plain": [
       "<Figure size 432x288 with 1 Axes>"
      ]
     },
     "metadata": {
      "needs_background": "light"
     },
     "output_type": "display_data"
    },
    {
     "name": "stdout",
     "output_type": "stream",
     "text": [
      "tech_support\n",
      "No                     2079\n",
      "Yes                    1220\n",
      "No internet service     926\n",
      "Name: tech_support, dtype: int64\n",
      "No                     49.207101\n",
      "Yes                    28.875740\n",
      "No internet service    21.917160\n",
      "Name: tech_support, dtype: float64\n"
     ]
    },
    {
     "data": {
      "image/png": "[encoded data removed]",
      "text/plain": [
       "<Figure size 432x288 with 1 Axes>"
      ]
     },
     "metadata": {
      "needs_background": "light"
     },
     "output_type": "display_data"
    },
    {
     "name": "stdout",
     "output_type": "stream",
     "text": [
      "streaming_tv\n",
      "No                     1712\n",
      "Yes                    1587\n",
      "No internet service     926\n",
      "Name: streaming_tv, dtype: int64\n",
      "No                     40.52071\n",
      "Yes                    37.56213\n",
      "No internet service    21.91716\n",
      "Name: streaming_tv, dtype: float64\n"
     ]
    },
    {
     "data": {
      "image/png": "[encoded data removed]",
      "text/plain": [
       "<Figure size 432x288 with 1 Axes>"
      ]
     },
     "metadata": {
      "needs_background": "light"
     },
     "output_type": "display_data"
    },
    {
     "name": "stdout",
     "output_type": "stream",
     "text": [
      "streaming_movies\n",
      "No                     1702\n",
      "Yes                    1597\n",
      "No internet service     926\n",
      "Name: streaming_movies, dtype: int64\n",
      "No                     40.284024\n",
      "Yes                    37.798817\n",
      "No internet service    21.917160\n",
      "Name: streaming_movies, dtype: float64\n"
     ]
    },
    {
     "data": {
      "image/png": "[encoded data removed]",
      "text/plain": [
       "<Figure size 432x288 with 1 Axes>"
      ]
     },
     "metadata": {
      "needs_background": "light"
     },
     "output_type": "display_data"
    },
    {
     "name": "stdout",
     "output_type": "stream",
     "text": [
      "paperless_billing\n",
      "Yes    2473\n",
      "No     1752\n",
      "Name: paperless_billing, dtype: int64\n",
      "Yes    58.532544\n",
      "No     41.467456\n",
      "Name: paperless_billing, dtype: float64\n"
     ]
    },
    {
     "data": {
      "image/png": "[encoded data removed]",
      "text/plain": [
       "<Figure size 432x288 with 1 Axes>"
      ]
     },
     "metadata": {
      "needs_background": "light"
     },
     "output_type": "display_data"
    },
    {
     "name": "stdout",
     "output_type": "stream",
     "text": [
      "churn\n",
      "No     3104\n",
      "Yes    1121\n",
      "Name: churn, dtype: int64\n",
      "No     73.467456\n",
      "Yes    26.532544\n",
      "Name: churn, dtype: float64\n"
     ]
    },
    {
     "data": {
      "image/png": "[encoded data removed]",
      "text/plain": [
       "<Figure size 432x288 with 1 Axes>"
      ]
     },
     "metadata": {
      "needs_background": "light"
     },
     "output_type": "display_data"
    },
    {
     "name": "stdout",
     "output_type": "stream",
     "text": [
      "contract_type\n",
      "Month-to-month    2338\n",
      "Two year          1006\n",
      "One year           881\n",
      "Name: contract_type, dtype: int64\n",
      "Month-to-month    55.337278\n",
      "Two year          23.810651\n",
      "One year          20.852071\n",
      "Name: contract_type, dtype: float64\n"
     ]
    },
    {
     "data": {
      "image/png": "[encoded data removed]",
      "text/plain": [
       "<Figure size 432x288 with 1 Axes>"
      ]
     },
     "metadata": {
      "needs_background": "light"
     },
     "output_type": "display_data"
    },
    {
     "name": "stdout",
     "output_type": "stream",
     "text": [
      "internet_service_type\n",
      "Fiber optic    1847\n",
      "DSL            1452\n",
      "None            926\n",
      "Name: internet_service_type, dtype: int64\n",
      "Fiber optic    43.715976\n",
      "DSL            34.366864\n",
      "None           21.917160\n",
      "Name: internet_service_type, dtype: float64\n"
     ]
    },
    {
     "data": {
      "image/png": "[encoded data removed]",
      "text/plain": [
       "<Figure size 432x288 with 1 Axes>"
      ]
     },
     "metadata": {
      "needs_background": "light"
     },
     "output_type": "display_data"
    },
    {
     "name": "stdout",
     "output_type": "stream",
     "text": [
      "payment_type\n",
      "Electronic check             1385\n",
      "Mailed check                 1040\n",
      "Credit card (automatic)       922\n",
      "Bank transfer (automatic)     878\n",
      "Name: payment_type, dtype: int64\n",
      "Electronic check             32.781065\n",
      "Mailed check                 24.615385\n",
      "Credit card (automatic)      21.822485\n",
      "Bank transfer (automatic)    20.781065\n",
      "Name: payment_type, dtype: float64\n"
     ]
    },
    {
     "data": {
      "image/png": "[encoded data removed]",
      "text/plain": [
       "<Figure size 432x288 with 1 Axes>"
      ]
     },
     "metadata": {
      "needs_background": "light"
     },
     "output_type": "display_data"
    },
    {
     "name": "stdout",
     "output_type": "stream",
     "text": [
      "gender_encoded\n",
      "0    2144\n",
      "1    2081\n",
      "Name: gender_encoded, dtype: int64\n",
      "0    50.745562\n",
      "1    49.254438\n",
      "Name: gender_encoded, dtype: float64\n"
     ]
    },
    {
     "data": {
      "image/png": "[encoded data removed]",
      "text/plain": [
       "<Figure size 432x288 with 1 Axes>"
      ]
     },
     "metadata": {
      "needs_background": "light"
     },
     "output_type": "display_data"
    },
    {
     "name": "stdout",
     "output_type": "stream",
     "text": [
      "partner_encoded\n",
      "0    2166\n",
      "1    2059\n",
      "Name: partner_encoded, dtype: int64\n",
      "0    51.266272\n",
      "1    48.733728\n",
      "Name: partner_encoded, dtype: float64\n"
     ]
    },
    {
     "data": {
      "image/png": "[encoded data removed]",
      "text/plain": [
       "<Figure size 432x288 with 1 Axes>"
      ]
     },
     "metadata": {
      "needs_background": "light"
     },
     "output_type": "display_data"
    },
    {
     "name": "stdout",
     "output_type": "stream",
     "text": [
      "dependents_encoded\n",
      "0    2927\n",
      "1    1298\n",
      "Name: dependents_encoded, dtype: int64\n",
      "0    69.278107\n",
      "1    30.721893\n",
      "Name: dependents_encoded, dtype: float64\n"
     ]
    },
    {
     "data": {
      "image/png": "[encoded data removed]",
      "text/plain": [
       "<Figure size 432x288 with 1 Axes>"
      ]
     },
     "metadata": {
      "needs_background": "light"
     },
     "output_type": "display_data"
    },
    {
     "name": "stdout",
     "output_type": "stream",
     "text": [
      "phone_service_encoded\n",
      "1    3842\n",
      "0     383\n",
      "Name: phone_service_encoded, dtype: int64\n",
      "1    90.934911\n",
      "0     9.065089\n",
      "Name: phone_service_encoded, dtype: float64\n"
     ]
    },
    {
     "data": {
      "image/png": "[encoded data removed]",
      "text/plain": [
       "<Figure size 432x288 with 1 Axes>"
      ]
     },
     "metadata": {
      "needs_background": "light"
     },
     "output_type": "display_data"
    },
    {
     "name": "stdout",
     "output_type": "stream",
     "text": [
      "paperless_billing_encoded\n",
      "1    2473\n",
      "0    1752\n",
      "Name: paperless_billing_encoded, dtype: int64\n",
      "1    58.532544\n",
      "0    41.467456\n",
      "Name: paperless_billing_encoded, dtype: float64\n"
     ]
    },
    {
     "data": {
      "image/png": "[encoded data removed]",
      "text/plain": [
       "<Figure size 432x288 with 1 Axes>"
      ]
     },
     "metadata": {
      "needs_background": "light"
     },
     "output_type": "display_data"
    },
    {
     "name": "stdout",
     "output_type": "stream",
     "text": [
      "churn_encoded\n",
      "0    3104\n",
      "1    1121\n",
      "Name: churn_encoded, dtype: int64\n",
      "0    73.467456\n",
      "1    26.532544\n",
      "Name: churn_encoded, dtype: float64\n"
     ]
    },
    {
     "data": {
      "image/png": "[encoded data removed]",
      "text/plain": [
       "<Figure size 432x288 with 1 Axes>"
      ]
     },
     "metadata": {
      "needs_background": "light"
     },
     "output_type": "display_data"
    },
    {
     "name": "stdout",
     "output_type": "stream",
     "text": [
      "multiple_lines_No phone service\n",
      "0    3842\n",
      "1     383\n",
      "Name: multiple_lines_No phone service, dtype: int64\n",
      "0    90.934911\n",
      "1     9.065089\n",
      "Name: multiple_lines_No phone service, dtype: float64\n"
     ]
    },
    {
     "data": {
      "image/png": "[encoded data removed]",
      "text/plain": [
       "<Figure size 432x288 with 1 Axes>"
      ]
     },
     "metadata": {
      "needs_background": "light"
     },
     "output_type": "display_data"
    },
    {
     "name": "stdout",
     "output_type": "stream",
     "text": [
      "multiple_lines_Yes\n",
      "0    2441\n",
      "1    1784\n",
      "Name: multiple_lines_Yes, dtype: int64\n",
      "0    57.775148\n",
      "1    42.224852\n",
      "Name: multiple_lines_Yes, dtype: float64\n"
     ]
    },
    {
     "data": {
      "image/png": "[encoded data removed]",
      "text/plain": [
       "<Figure size 432x288 with 1 Axes>"
      ]
     },
     "metadata": {
      "needs_background": "light"
     },
     "output_type": "display_data"
    },
    {
     "name": "stdout",
     "output_type": "stream",
     "text": [
      "online_security_No internet service\n",
      "0    3299\n",
      "1     926\n",
      "Name: online_security_No internet service, dtype: int64\n",
      "0    78.08284\n",
      "1    21.91716\n",
      "Name: online_security_No internet service, dtype: float64\n"
     ]
    },
    {
     "data": {
      "image/png": "[encoded data removed]",
      "text/plain": [
       "<Figure size 432x288 with 1 Axes>"
      ]
     },
     "metadata": {
      "needs_background": "light"
     },
     "output_type": "display_data"
    },
    {
     "name": "stdout",
     "output_type": "stream",
     "text": [
      "online_security_Yes\n",
      "0    3027\n",
      "1    1198\n",
      "Name: online_security_Yes, dtype: int64\n",
      "0    71.64497\n",
      "1    28.35503\n",
      "Name: online_security_Yes, dtype: float64\n"
     ]
    },
    {
     "data": {
      "image/png": "[encoded data removed]",
      "text/plain": [
       "<Figure size 432x288 with 1 Axes>"
      ]
     },
     "metadata": {
      "needs_background": "light"
     },
     "output_type": "display_data"
    },
    {
     "name": "stdout",
     "output_type": "stream",
     "text": [
      "online_backup_No internet service\n",
      "0    3299\n",
      "1     926\n",
      "Name: online_backup_No internet service, dtype: int64\n",
      "0    78.08284\n",
      "1    21.91716\n",
      "Name: online_backup_No internet service, dtype: float64\n"
     ]
    },
    {
     "data": {
      "image/png": "[encoded data removed]",
      "text/plain": [
       "<Figure size 432x288 with 1 Axes>"
      ]
     },
     "metadata": {
      "needs_background": "light"
     },
     "output_type": "display_data"
    },
    {
     "name": "stdout",
     "output_type": "stream",
     "text": [
      "online_backup_Yes\n",
      "0    2764\n",
      "1    1461\n",
      "Name: online_backup_Yes, dtype: int64\n",
      "0    65.420118\n",
      "1    34.579882\n",
      "Name: online_backup_Yes, dtype: float64\n"
     ]
    },
    {
     "data": {
      "image/png": "[encoded data removed]",
      "text/plain": [
       "<Figure size 432x288 with 1 Axes>"
      ]
     },
     "metadata": {
      "needs_background": "light"
     },
     "output_type": "display_data"
    },
    {
     "name": "stdout",
     "output_type": "stream",
     "text": [
      "device_protection_No internet service\n",
      "0    3299\n",
      "1     926\n",
      "Name: device_protection_No internet service, dtype: int64\n",
      "0    78.08284\n",
      "1    21.91716\n",
      "Name: device_protection_No internet service, dtype: float64\n"
     ]
    },
    {
     "data": {
      "image/png": "[encoded data removed]",
      "text/plain": [
       "<Figure size 432x288 with 1 Axes>"
      ]
     },
     "metadata": {
      "needs_background": "light"
     },
     "output_type": "display_data"
    },
    {
     "name": "stdout",
     "output_type": "stream",
     "text": [
      "device_protection_Yes\n",
      "0    2796\n",
      "1    1429\n",
      "Name: device_protection_Yes, dtype: int64\n",
      "0    66.177515\n",
      "1    33.822485\n",
      "Name: device_protection_Yes, dtype: float64\n"
     ]
    },
    {
     "data": {
      "image/png": "[encoded data removed]",
      "text/plain": [
       "<Figure size 432x288 with 1 Axes>"
      ]
     },
     "metadata": {
      "needs_background": "light"
     },
     "output_type": "display_data"
    },
    {
     "name": "stdout",
     "output_type": "stream",
     "text": [
      "tech_support_No internet service\n",
      "0    3299\n",
      "1     926\n",
      "Name: tech_support_No internet service, dtype: int64\n",
      "0    78.08284\n",
      "1    21.91716\n",
      "Name: tech_support_No internet service, dtype: float64\n"
     ]
    },
    {
     "data": {
      "image/png": "[encoded data removed]",
      "text/plain": [
       "<Figure size 432x288 with 1 Axes>"
      ]
     },
     "metadata": {
      "needs_background": "light"
     },
     "output_type": "display_data"
    },
    {
     "name": "stdout",
     "output_type": "stream",
     "text": [
      "tech_support_Yes\n",
      "0    3005\n",
      "1    1220\n",
      "Name: tech_support_Yes, dtype: int64\n",
      "0    71.12426\n",
      "1    28.87574\n",
      "Name: tech_support_Yes, dtype: float64\n"
     ]
    },
    {
     "data": {
      "image/png": "[encoded data removed]",
      "text/plain": [
       "<Figure size 432x288 with 1 Axes>"
      ]
     },
     "metadata": {
      "needs_background": "light"
     },
     "output_type": "display_data"
    },
    {
     "name": "stdout",
     "output_type": "stream",
     "text": [
      "streaming_tv_No internet service\n",
      "0    3299\n",
      "1     926\n",
      "Name: streaming_tv_No internet service, dtype: int64\n",
      "0    78.08284\n",
      "1    21.91716\n",
      "Name: streaming_tv_No internet service, dtype: float64\n"
     ]
    },
    {
     "data": {
      "image/png": "[encoded data removed]",
      "text/plain": [
       "<Figure size 432x288 with 1 Axes>"
      ]
     },
     "metadata": {
      "needs_background": "light"
     },
     "output_type": "display_data"
    },
    {
     "name": "stdout",
     "output_type": "stream",
     "text": [
      "streaming_tv_Yes\n",
      "0    2638\n",
      "1    1587\n",
      "Name: streaming_tv_Yes, dtype: int64\n",
      "0    62.43787\n",
      "1    37.56213\n",
      "Name: streaming_tv_Yes, dtype: float64\n"
     ]
    },
    {
     "data": {
      "image/png": "[encoded data removed]",
      "text/plain": [
       "<Figure size 432x288 with 1 Axes>"
      ]
     },
     "metadata": {
      "needs_background": "light"
     },
     "output_type": "display_data"
    },
    {
     "name": "stdout",
     "output_type": "stream",
     "text": [
      "streaming_movies_No internet service\n",
      "0    3299\n",
      "1     926\n",
      "Name: streaming_movies_No internet service, dtype: int64\n",
      "0    78.08284\n",
      "1    21.91716\n",
      "Name: streaming_movies_No internet service, dtype: float64\n"
     ]
    },
    {
     "data": {
      "image/png": "[encoded data removed]",
      "text/plain": [
       "<Figure size 432x288 with 1 Axes>"
      ]
     },
     "metadata": {
      "needs_background": "light"
     },
     "output_type": "display_data"
    },
    {
     "name": "stdout",
     "output_type": "stream",
     "text": [
      "streaming_movies_Yes\n",
      "0    2628\n",
      "1    1597\n",
      "Name: streaming_movies_Yes, dtype: int64\n",
      "0    62.201183\n",
      "1    37.798817\n",
      "Name: streaming_movies_Yes, dtype: float64\n"
     ]
    },
    {
     "data": {
      "image/png": "[encoded data removed]",
      "text/plain": [
       "<Figure size 432x288 with 1 Axes>"
      ]
     },
     "metadata": {
      "needs_background": "light"
     },
     "output_type": "display_data"
    },
    {
     "name": "stdout",
     "output_type": "stream",
     "text": [
      "contract_type_One year\n",
      "0    3344\n",
      "1     881\n",
      "Name: contract_type_One year, dtype: int64\n",
      "0    79.147929\n",
      "1    20.852071\n",
      "Name: contract_type_One year, dtype: float64\n"
     ]
    },
    {
     "data": {
      "image/png": "[encoded data removed]",
      "text/plain": [
       "<Figure size 432x288 with 1 Axes>"
      ]
     },
     "metadata": {
      "needs_background": "light"
     },
     "output_type": "display_data"
    },
    {
     "name": "stdout",
     "output_type": "stream",
     "text": [
      "contract_type_Two year\n",
      "0    3219\n",
      "1    1006\n",
      "Name: contract_type_Two year, dtype: int64\n",
      "0    76.189349\n",
      "1    23.810651\n",
      "Name: contract_type_Two year, dtype: float64\n"
     ]
    },
    {
     "data": {
      "image/png": "[encoded data removed]",
      "text/plain": [
       "<Figure size 432x288 with 1 Axes>"
      ]
     },
     "metadata": {
      "needs_background": "light"
     },
     "output_type": "display_data"
    },
    {
     "name": "stdout",
     "output_type": "stream",
     "text": [
      "internet_service_type_Fiber optic\n",
      "0    2378\n",
      "1    1847\n",
      "Name: internet_service_type_Fiber optic, dtype: int64\n",
      "0    56.284024\n",
      "1    43.715976\n",
      "Name: internet_service_type_Fiber optic, dtype: float64\n"
     ]
    },
    {
     "data": {
      "image/png": "[encoded data removed]",
      "text/plain": [
       "<Figure size 432x288 with 1 Axes>"
      ]
     },
     "metadata": {
      "needs_background": "light"
     },
     "output_type": "display_data"
    },
    {
     "name": "stdout",
     "output_type": "stream",
     "text": [
      "internet_service_type_None\n",
      "0    3299\n",
      "1     926\n",
      "Name: internet_service_type_None, dtype: int64\n",
      "0    78.08284\n",
      "1    21.91716\n",
      "Name: internet_service_type_None, dtype: float64\n"
     ]
    },
    {
     "data": {
      "image/png": "[encoded data removed]",
      "text/plain": [
       "<Figure size 432x288 with 1 Axes>"
      ]
     },
     "metadata": {
      "needs_background": "light"
     },
     "output_type": "display_data"
    },
    {
     "name": "stdout",
     "output_type": "stream",
     "text": [
      "payment_type_Credit card (automatic)\n",
      "0    3303\n",
      "1     922\n",
      "Name: payment_type_Credit card (automatic), dtype: int64\n",
      "0    78.177515\n",
      "1    21.822485\n",
      "Name: payment_type_Credit card (automatic), dtype: float64\n"
     ]
    },
    {
     "data": {
      "image/png": "[encoded data removed]",
      "text/plain": [
       "<Figure size 432x288 with 1 Axes>"
      ]
     },
     "metadata": {
      "needs_background": "light"
     },
     "output_type": "display_data"
    },
    {
     "name": "stdout",
     "output_type": "stream",
     "text": [
      "payment_type_Electronic check\n",
      "0    2840\n",
      "1    1385\n",
      "Name: payment_type_Electronic check, dtype: int64\n",
      "0    67.218935\n",
      "1    32.781065\n",
      "Name: payment_type_Electronic check, dtype: float64\n"
     ]
    },
    {
     "data": {
      "image/png": "[encoded data removed]",
      "text/plain": [
       "<Figure size 432x288 with 1 Axes>"
      ]
     },
     "metadata": {
      "needs_background": "light"
     },
     "output_type": "display_data"
    },
    {
     "name": "stdout",
     "output_type": "stream",
     "text": [
      "payment_type_Mailed check\n",
      "0    3185\n",
      "1    1040\n",
      "Name: payment_type_Mailed check, dtype: int64\n",
      "0    75.384615\n",
      "1    24.615385\n",
      "Name: payment_type_Mailed check, dtype: float64\n"
     ]
    },
    {
     "data": {
      "image/png": "[encoded data removed]",
      "text/plain": [
       "<Figure size 432x288 with 1 Axes>"
      ]
     },
     "metadata": {
      "needs_background": "light"
     },
     "output_type": "display_data"
    },
    {
     "name": "stdout",
     "output_type": "stream",
     "text": [
      "We fail to reject the null hypothesis that gender and churn are independent.\n",
      "There appears to be no relationship between  churn and  gender .\n",
      "We reject the null hypothesis that senior_citizen and churn are independent.\n",
      "There appears to be a relationship between churn and senior_citizen.\n",
      "We reject the null hypothesis that partner and churn are independent.\n",
      "There appears to be a relationship between churn and partner.\n",
      "We reject the null hypothesis that dependents and churn are independent.\n",
      "There appears to be a relationship between churn and dependents.\n",
      "We reject the null hypothesis that tenure and churn are independent.\n",
      "There appears to be a relationship between churn and tenure.\n",
      "We fail to reject the null hypothesis that phone_service and churn are independent.\n",
      "There appears to be no relationship between  churn and  phone_service .\n",
      "We reject the null hypothesis that multiple_lines and churn are independent.\n",
      "There appears to be a relationship between churn and multiple_lines.\n",
      "We reject the null hypothesis that online_security and churn are independent.\n",
      "There appears to be a relationship between churn and online_security.\n",
      "We reject the null hypothesis that online_backup and churn are independent.\n",
      "There appears to be a relationship between churn and online_backup.\n",
      "We reject the null hypothesis that device_protection and churn are independent.\n",
      "There appears to be a relationship between churn and device_protection.\n",
      "We reject the null hypothesis that tech_support and churn are independent.\n",
      "There appears to be a relationship between churn and tech_support.\n",
      "We reject the null hypothesis that streaming_tv and churn are independent.\n",
      "There appears to be a relationship between churn and streaming_tv.\n",
      "We reject the null hypothesis that streaming_movies and churn are independent.\n",
      "There appears to be a relationship between churn and streaming_movies.\n",
      "We reject the null hypothesis that paperless_billing and churn are independent.\n",
      "There appears to be a relationship between churn and paperless_billing.\n",
      "We reject the null hypothesis that churn and churn are independent.\n",
      "There appears to be a relationship between churn and churn.\n",
      "We reject the null hypothesis that contract_type and churn are independent.\n",
      "There appears to be a relationship between churn and contract_type.\n",
      "We reject the null hypothesis that internet_service_type and churn are independent.\n",
      "There appears to be a relationship between churn and internet_service_type.\n",
      "We reject the null hypothesis that payment_type and churn are independent.\n",
      "There appears to be a relationship between churn and payment_type.\n",
      "We fail to reject the null hypothesis that gender_encoded and churn are independent.\n",
      "There appears to be no relationship between  churn and  gender_encoded .\n",
      "We reject the null hypothesis that partner_encoded and churn are independent.\n",
      "There appears to be a relationship between churn and partner_encoded.\n",
      "We reject the null hypothesis that dependents_encoded and churn are independent.\n",
      "There appears to be a relationship between churn and dependents_encoded.\n",
      "We fail to reject the null hypothesis that phone_service_encoded and churn are independent.\n",
      "There appears to be no relationship between  churn and  phone_service_encoded .\n",
      "We reject the null hypothesis that paperless_billing_encoded and churn are independent.\n",
      "There appears to be a relationship between churn and paperless_billing_encoded.\n",
      "We reject the null hypothesis that churn_encoded and churn are independent.\n",
      "There appears to be a relationship between churn and churn_encoded.\n",
      "We fail to reject the null hypothesis that multiple_lines_No phone service and churn are independent.\n",
      "There appears to be no relationship between  churn and  multiple_lines_No phone service .\n",
      "We reject the null hypothesis that multiple_lines_Yes and churn are independent.\n",
      "There appears to be a relationship between churn and multiple_lines_Yes.\n",
      "We reject the null hypothesis that online_security_No internet service and churn are independent.\n",
      "There appears to be a relationship between churn and online_security_No internet service.\n",
      "We reject the null hypothesis that online_security_Yes and churn are independent.\n",
      "There appears to be a relationship between churn and online_security_Yes.\n",
      "We reject the null hypothesis that online_backup_No internet service and churn are independent.\n",
      "There appears to be a relationship between churn and online_backup_No internet service.\n",
      "We reject the null hypothesis that online_backup_Yes and churn are independent.\n",
      "There appears to be a relationship between churn and online_backup_Yes.\n",
      "We reject the null hypothesis that device_protection_No internet service and churn are independent.\n",
      "There appears to be a relationship between churn and device_protection_No internet service.\n",
      "We reject the null hypothesis that device_protection_Yes and churn are independent.\n",
      "There appears to be a relationship between churn and device_protection_Yes.\n",
      "We reject the null hypothesis that tech_support_No internet service and churn are independent.\n",
      "There appears to be a relationship between churn and tech_support_No internet service.\n",
      "We reject the null hypothesis that tech_support_Yes and churn are independent.\n",
      "There appears to be a relationship between churn and tech_support_Yes.\n",
      "We reject the null hypothesis that streaming_tv_No internet service and churn are independent.\n",
      "There appears to be a relationship between churn and streaming_tv_No internet service.\n",
      "We reject the null hypothesis that streaming_tv_Yes and churn are independent.\n",
      "There appears to be a relationship between churn and streaming_tv_Yes.\n",
      "We reject the null hypothesis that streaming_movies_No internet service and churn are independent.\n",
      "There appears to be a relationship between churn and streaming_movies_No internet service.\n",
      "We reject the null hypothesis that streaming_movies_Yes and churn are independent.\n",
      "There appears to be a relationship between churn and streaming_movies_Yes.\n",
      "We reject the null hypothesis that contract_type_One year and churn are independent.\n",
      "There appears to be a relationship between churn and contract_type_One year.\n",
      "We reject the null hypothesis that contract_type_Two year and churn are independent.\n",
      "There appears to be a relationship between churn and contract_type_Two year.\n",
      "We reject the null hypothesis that internet_service_type_Fiber optic and churn are independent.\n",
      "There appears to be a relationship between churn and internet_service_type_Fiber optic.\n",
      "We reject the null hypothesis that internet_service_type_None and churn are independent.\n",
      "There appears to be a relationship between churn and internet_service_type_None.\n",
      "We reject the null hypothesis that payment_type_Credit card (automatic) and churn are independent.\n",
      "There appears to be a relationship between churn and payment_type_Credit card (automatic).\n",
      "We reject the null hypothesis that payment_type_Electronic check and churn are independent.\n",
      "There appears to be a relationship between churn and payment_type_Electronic check.\n",
      "We reject the null hypothesis that payment_type_Mailed check and churn are independent.\n",
      "There appears to be a relationship between churn and payment_type_Mailed check.\n"
     ]
    }
   ],
   "source": [
    "train, validate, test = prep_split(prep_telco(get_telco_data()), \"churn\")\n",
    "\n",
    "display(train.describe(include = \"all\").transpose())\n",
    "\n",
    "num_type_list, cat_type_list = dtypes_to_list(train)\n",
    "cat_type_list = cat_type_list[1:]\n",
    "cat_analysis(train, \"churn\", cat_type_list)"
   ]
  }
 ],
 "metadata": {
  "kernelspec": {
   "display_name": "Python 3.9.12 ('base')",
   "language": "python",
   "name": "python3"
  },
  "language_info": {
   "codemirror_mode": {
    "name": "ipython",
    "version": 3
   },
   "file_extension": ".py",
   "mimetype": "text/x-python",
   "name": "python",
   "nbconvert_exporter": "python",
   "pygments_lexer": "ipython3",
   "version": "3.9.12"
  },
  "orig_nbformat": 4,
  "vscode": {
   "interpreter": {
    "hash": "38cca0c38332a56087b24af0bc80247f4fced29cb4f7f437d91dc159adec9c4e"
   }
  }
 },
 "nbformat": 4,
 "nbformat_minor": 2
}
